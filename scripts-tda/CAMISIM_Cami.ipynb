{
 "cells": [
  {
   "cell_type": "markdown",
   "metadata": {},
   "source": [
    "# CAMISIM\n",
    "CAMISIM es un `Programa` para simular datos metagenomicos a partir de genomas, a grandes rasgos este programa toma uno o varios archivos de genomas,y por un proceso de corte aleatorio de secuencias crea un archivo de datos metagenomicos.\n",
    "\n",
    "A continuación muestro los pasos para hacer una recreaccion de este algoritmos, y exploicare cada una delas funciones creadas."
   ]
  },
  {
   "cell_type": "code",
   "execution_count": null,
   "metadata": {},
   "outputs": [],
   "source": []
  },
  {
   "cell_type": "markdown",
   "metadata": {},
   "source": [
    "\n"
   ]
  },
  {
   "cell_type": "code",
   "execution_count": 8,
   "metadata": {},
   "outputs": [],
   "source": [
    "import os\n",
    "import math\n",
    "import random\n",
    "import numpy as np\n",
    "\n",
    "from pathlib import Path\n",
    "from random import seed\n",
    "from random import randint"
   ]
  },
  {
   "cell_type": "markdown",
   "metadata": {},
   "source": [
    "La primera funcion se encarga de leer uno o varios genomas en archivos, los cuales se convertiran en un diccionario para poder trabajar con ellos en `Python`, en donde las `llaves`son los identificadores de los genoma y los `valores` la secuencia de nucleotidos."
   ]
  },
  {
   "cell_type": "code",
   "execution_count": 9,
   "metadata": {},
   "outputs": [],
   "source": [
    "# funcion para lectura de archivos\n",
    "# ingresa un archivo multifasta y arroja una lista con cada secuencia (contig)\n",
    "dic = {}\n",
    "def lectura_genoma(File):\n",
    "    lista = []\n",
    "    with open(File,'r') as f:\n",
    "        lines=f.read() # lectura de cada linea del archivo\n",
    "        lines=lines.split('>') # identificador de '>'\n",
    "        lines=['>'+ x for x in lines[1:]] # lista con cada elemento que comienza con '>'\n",
    "        for x in lines:\n",
    "            x1=x.replace(\">\", \"@\")\n",
    "            x2 = x1.replace(\"\\n\",\",\",1) # el primer '\\n' se reemplazapor una coma\n",
    "            x3 = x2.replace(\"\\n\",\"\") # los siguientes se quitan\n",
    "            lista.append(x3) # lista con un contig en cada elemento y su identificador\n",
    "\n",
    "        \n",
    "        \n",
    "        # LONGITUDES ¿¿¿???\n",
    "        # convertir la lista en un diccionario        \n",
    "        for x in lista:\n",
    "            x = x.split(',')\n",
    "            dic[x[0]] = x[1] \n",
    "        return(dic)    "
   ]
  },
  {
   "cell_type": "code",
   "execution_count": 10,
   "metadata": {},
   "outputs": [
    {
     "name": "stdout",
     "output_type": "stream",
     "text": [
      "[Errno 2] No such file or directory: 'GIT/clavibacter/scripts-tda/'\n",
      "/home/betterlab/GIT/clavibacter/scripts-tda\n"
     ]
    }
   ],
   "source": [
    "cd GIT/clavibacter/scripts-tda/"
   ]
  },
  {
   "cell_type": "code",
   "execution_count": 11,
   "metadata": {
    "tags": []
   },
   "outputs": [],
   "source": [
    "b=lectura_genoma('/home/betterlab/GIT/clavibacter/scripts-tda/genomas-clavi/clavi-genomes/genomas-para-script-camila/Clavibacter_michiganensis_subsp_capsici_1101.fna-cortado.fna')"
   ]
  },
  {
   "cell_type": "markdown",
   "metadata": {},
   "source": [
    "Esta segunda funcion se encarga de cortar una secuencia de nucleotidos dada, a partir de una pocision y una longitud dada."
   ]
  },
  {
   "cell_type": "code",
   "execution_count": 12,
   "metadata": {},
   "outputs": [],
   "source": [
    "# funcion para cortar reads, dado una pocision de inicio y una longitud de corte\n",
    "def cutout(read,i,n_length): \n",
    "    cropped_read = read[i:i+n_length]\n",
    "    return(cropped_read) "
   ]
  },
  {
   "cell_type": "code",
   "execution_count": null,
   "metadata": {},
   "outputs": [],
   "source": []
  },
  {
   "cell_type": "markdown",
   "metadata": {},
   "source": [
    "Esta función se depende de la funcion anterior para cortar reads, y se complementa haciendo esto para cada genoma dentro de diccionario creado."
   ]
  },
  {
   "cell_type": "code",
   "execution_count": 14,
   "metadata": {},
   "outputs": [],
   "source": [
    "# funcion para cortar los reads aleatoriamente\n",
    "# Al ingresar un conjunto de genomas, este nos arroja un metagenoma con varios reads tomados de los genomas iniciales\n",
    "# para esto se le entrega el numero de reads deseados por cada genoma y la longitud.\n",
    "def reads(diccionario,longitud,num_reads):  # num_reads\n",
    "    dic2 = {}\n",
    "    contig = 0\n",
    "    k = 0\n",
    "    \n",
    "    # LONGITUD Y NUM_READS DEPENDERA DE LAS LONGITUDES DE LOS CONTIG\n",
    "    # LA LONGITUD \n",
    "    \n",
    "    #LAS LONGITUDES DEPENDEN DE LA CALIDAD\n",
    "    \n",
    "    while k < num_reads:\n",
    "        for key in diccionario:#range(len(diccionario.keys())):\n",
    "            newkey = key + '_' + str(k) \n",
    "            contig = random.choice(list(diccionario.values())) # escoje un contig al azar \n",
    "            i = randint(1,(len(contig)-longitud)) # toma una pocision de inicio al azar\n",
    "            dic2[newkey] = cutout(contig,i,longitud) # para el contig dado anteriormente, se corta desde la pocision i de lonjitud ln\n",
    "            # se debe calcular cuantas veces va a escoger cada contig,dependiendo del tamaño del contig inicial      \n",
    "        k += 1\n",
    "    return(dic2)"
   ]
  },
  {
   "cell_type": "markdown",
   "metadata": {},
   "source": [
    "La ultima función toma el diccionario de reads creado por la anterior funcion, y lo guarda en un archivo `.fastq` , creando una calidad para cada read."
   ]
  },
  {
   "cell_type": "code",
   "execution_count": 15,
   "metadata": {},
   "outputs": [],
   "source": [
    "# funcion de creacion archivo .fastq\n",
    "    \n",
    "def crea_fastq(diccionario,longitud,file_name):\n",
    "    file = open(file_name,'wt')\n",
    "    for key in diccionario: \n",
    "        file.write(str(key))\n",
    "        file.write(str('\\n'))\n",
    "        file.write(str(diccionario[key]))\n",
    "        file.write(str('\\n'))\n",
    "        file.write(str('+'))\n",
    "        file.write(str('\\n'))\n",
    "        file.write(str('A'*longitud)) #calidad\n",
    "        file.write(str('\\n'))     \n",
    "    file.close()\n"
   ]
  },
  {
   "cell_type": "code",
   "execution_count": 9,
   "metadata": {},
   "outputs": [
    {
     "data": {
      "text/plain": [
       "{'@NZ_CP048049.1_0': 'GGACACGCGC',\n",
       " '@NZ_CP048050.1_0': 'TGCTCTTGGA',\n",
       " '@NZ_CP048049.1_1': 'GTCGACGAGG',\n",
       " '@NZ_CP048050.1_1': 'CTCGTTGCGG',\n",
       " '@NZ_CP048049.1_2': 'CCGTCGTCTC',\n",
       " '@NZ_CP048050.1_2': 'TGGCCTGCGC'}"
      ]
     },
     "execution_count": 9,
     "metadata": {},
     "output_type": "execute_result"
    }
   ],
   "source": [
    "dicreads=reads(dic,10,3)\n",
    "dicreads"
   ]
  },
  {
   "cell_type": "code",
   "execution_count": 14,
   "metadata": {},
   "outputs": [],
   "source": [
    "crea_fastq(dicreads,10,\"prueba2.fastq\")"
   ]
  },
  {
   "cell_type": "markdown",
   "metadata": {},
   "source": [
    "A continuación se quiere agrupar todo dentro de una clase y poder realizar el proceso para varios archivos al mismo tiempo. Empezando con un solo archivo como prueba de la clase."
   ]
  },
  {
   "cell_type": "markdown",
   "metadata": {},
   "source": [
    "Esta clase se compone de cuatro funciones, las cuales:\n",
    " * Lee uno o varios archivos `.fasta` los cuales contienen genomas con uno o varios contigs.\n",
    " * Corta un read (secuencia genomica) de un tamaño dado y desde una posición aleatoria dada.\n",
    " * Crea un diccionario de reads metagenomicos de varios metagenomas dados.\n",
    " * Crea un archivo `.fastq` en donde guarda los datos metagenomicos añadiendo le la calidad."
   ]
  },
  {
   "cell_type": "code",
   "execution_count": 16,
   "metadata": {},
   "outputs": [],
   "source": [
    "class CAMISIM_CAMI:\n",
    "    def __init__(self):\n",
    "        self.dic = {}\n",
    "        self.list = []\n",
    "        \n",
    "        #longitud   (ejem = 150 por defauld o agusto del usuario)\n",
    "        #numero de reads\n",
    "        \n",
    "    # funcion para lectura de archivos\n",
    "    # ingresa un archivo multifasta y arroja una lista con cada secuencia (contig)\n",
    "    dic = {}\n",
    "    def lectura_genoma(File):\n",
    "        lista = []\n",
    "        #with open(File,'r') as f: # con esta funcion podemos abrir un archivo en especifico con ruta completa\n",
    "        with open(ruta + '/' + File,'r') as f:  # con esta funcion podemos leer los nombres delos archivos de la lista 'genomes' y le agrega la ruta para la lectura \n",
    "            lines=f.read() # lectura decada linea del archivo\n",
    "            lines=lines.split('>') # identificador de '>'\n",
    "            lines=['>'+ x for x in lines[1:]] # lista con cada elemento que comienza con '>'\n",
    "            for x in lines:\n",
    "                x1=x.replace(\">\", \"@\")\n",
    "                x2 = x1.replace(\"\\n\",\",\",1) # el primer '\\n' se reemplazapor una coma\n",
    "                x3 = x2.replace(\"\\n\",\"\") # los siguientes se quitan\n",
    "                lista.append(x3) # lista con un contig en cada elemento y su identificador\n",
    "            # convertir la lista en un diccionario        \n",
    "            for x in lista:\n",
    "                x = x.split(',')\n",
    "                dic[x[0]] = x[1] \n",
    "            return(dic)  \n",
    "        \n",
    "    \n",
    "    # funcion para cortar reads, dado una pocision de inicio y una longitud de corte\n",
    "    def cutout(read,i,n_length): \n",
    "        cropped_read = read[i:i+n_length]\n",
    "        return(cropped_read) \n",
    "    \n",
    "    # funcion para cortar los reads aleatoriamente\n",
    "    # Al ingresar un conjunto de genomas, este nos arroja un metagenoma con varios reads tomados de los genomas iniciales\n",
    "    # para esto se le entrega el numero de reads deseados por cada genoma y la longitud.\n",
    "    def reads(diccionario,longitud,num_reads):  # num_reads\n",
    "        dic2 = {}\n",
    "        contig = 0\n",
    "        k = 0\n",
    "        while k < num_reads:\n",
    "            for key in diccionario:#range(len(diccionario.keys())):\n",
    "                newkey = key + '_' + str(k) \n",
    "                contig = random.choice(list(diccionario.values())) # escoje un contig al azar \n",
    "                i = randint(1,(len(contig)-longitud)) # toma una pocision de inicio al azar\n",
    "                dic2[newkey] = cutout(contig,i,longitud) # para el contig dado anteriormente, se corta desde la pocision i de lonjitud ln\n",
    "                # se debe calcular cuantas veces va a escoger cada contig,dependiendo del tamaño del contig inicial      \n",
    "            k += 1\n",
    "        return(dic2)\n",
    "    \n",
    "    # funcion de creacion archivo .fastq, tomandoel diccionario de reads cortados y la calidad de los reads\n",
    "    def crea_fastq(diccionario,longitud,file_name):\n",
    "        file = open(file_name,'wt')\n",
    "        for key in diccionario: \n",
    "            file.write(str(key))\n",
    "            file.write(str('\\n'))\n",
    "            file.write(str(diccionario[key]))\n",
    "            file.write(str('\\n'))\n",
    "            file.write(str('+'))\n",
    "            file.write(str('\\n'))\n",
    "            file.write(str('A'*longitud)) #calidad\n",
    "            file.write(str('\\n'))     \n",
    "        file.close()\n",
    "    "
   ]
  },
  {
   "cell_type": "code",
   "execution_count": 11,
   "metadata": {},
   "outputs": [],
   "source": [
    "dicreads = CAMISIM_CAMI.reads(dic,5,10) "
   ]
  },
  {
   "cell_type": "code",
   "execution_count": 12,
   "metadata": {},
   "outputs": [],
   "source": [
    "CAMISIM_CAMI.crea_fastq(dicreads,10,\"prueba2.fastq\")"
   ]
  },
  {
   "cell_type": "markdown",
   "metadata": {},
   "source": [
    "Y por ultimo realizandole unas pocas modificaciones a la clase, para poder realizar el proceso para varios archivos de genomas."
   ]
  },
  {
   "cell_type": "code",
   "execution_count": null,
   "metadata": {},
   "outputs": [],
   "source": []
  },
  {
   "cell_type": "markdown",
   "metadata": {},
   "source": [
    "y aplicando lo visto en clase sobre lectura de arhivos, e iteracion sobre cada uno de ellos."
   ]
  },
  {
   "cell_type": "code",
   "execution_count": null,
   "metadata": {},
   "outputs": [],
   "source": [
    "# "
   ]
  },
  {
   "cell_type": "code",
   "execution_count": 20,
   "metadata": {},
   "outputs": [],
   "source": [
    "# Funcion para la lectura de los nombres de los todos los archivos de genomas\n",
    "# toma la ruta de la carpeta donde estan los genomas, y crea un listado de los nombres de los archivos\n",
    "# para poder realizar la lectura de los mismos.\n",
    "ruta = '/home/betterlab/GIT/clavibacter/scripts-tda/genomas-clavi/clavi-genomes/genomas-prueba1/'\n",
    "contenido = os.listdir(ruta)\n",
    "genomes = []\n",
    "for i in contenido:\n",
    "    if os.path.isfile(os.path.join(ruta,i)) and i.endswith('.fna'):\n",
    "        genomes.append(i)\n",
    "n = len(genomes) # número de genomas (número de archivos)\n",
    "diccionario_reads_metagenoma = {}\n",
    "    "
   ]
  },
  {
   "cell_type": "code",
   "execution_count": 21,
   "metadata": {},
   "outputs": [
    {
     "data": {
      "text/plain": [
       "['Clavibacter_michiganensis_subsp_michi_contigs.fna',\n",
       " 'Clavibacter_michiganensis_subsp_capsici_1106.fna-cortado.fna',\n",
       " 'Clavibacter_michiganensis_subsp_capsici_1101.fna-cortado.fna']"
      ]
     },
     "execution_count": 21,
     "metadata": {},
     "output_type": "execute_result"
    }
   ],
   "source": [
    "genomes"
   ]
  },
  {
   "cell_type": "code",
   "execution_count": 22,
   "metadata": {},
   "outputs": [],
   "source": [
    "# Con esta funcion queremos llamar a las funciones de la clase,para todos los archivos en la lista 'genomes'\n",
    "\n",
    "def todo(genomes,longitud,num_reads,file_name):\n",
    "\n",
    "    for i,x in enumerate(genomes):\n",
    "    \n",
    "        CAMISIM_CAMI.lectura_genoma(x)                        #\n",
    "        dicreads = CAMISIM_CAMI.reads(dic,longitud,num_reads) #funcion construcctora\n",
    "        fasta = CAMISIM_CAMI.crea_fastq(dicreads,longitud,file_name)\n",
    "#print(dic)\n",
    "    \n",
    "    "
   ]
  },
  {
   "cell_type": "code",
   "execution_count": 24,
   "metadata": {},
   "outputs": [],
   "source": [
    "todo(genomes,150,100000,'reads-simulados100M.fastq')"
   ]
  },
  {
   "cell_type": "code",
   "execution_count": 33,
   "metadata": {},
   "outputs": [],
   "source": []
  },
  {
   "cell_type": "code",
   "execution_count": null,
   "metadata": {},
   "outputs": [],
   "source": []
  }
 ],
 "metadata": {
  "kernelspec": {
   "display_name": "Python 3",
   "language": "python",
   "name": "python3"
  },
  "language_info": {
   "codemirror_mode": {
    "name": "ipython",
    "version": 3
   },
   "file_extension": ".py",
   "mimetype": "text/x-python",
   "name": "python",
   "nbconvert_exporter": "python",
   "pygments_lexer": "ipython3",
   "version": "3.6.5"
  }
 },
 "nbformat": 4,
 "nbformat_minor": 4
}
