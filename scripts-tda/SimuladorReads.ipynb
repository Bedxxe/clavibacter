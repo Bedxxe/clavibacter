{
 "cells": [
  {
   "cell_type": "markdown",
   "metadata": {},
   "source": [
    "# Simulador de reads para metagenomas\n"
   ]
  },
  {
   "cell_type": "markdown",
   "metadata": {},
   "source": [
    "## Cargar librerias"
   ]
  },
  {
   "cell_type": "code",
   "execution_count": 2,
   "metadata": {},
   "outputs": [],
   "source": [
    "import os\n",
    "import math\n",
    "import random\n",
    "import numpy as np\n",
    "\n",
    "from pathlib import Path\n",
    "from random import seed\n",
    "from random import randint"
   ]
  },
  {
   "cell_type": "markdown",
   "metadata": {},
   "source": [
    "En esta sección utilizaremos las funciones definidas por Camila en su proyecto de maestria, con la que podemos realizar de forma simulada reads, de metagenomas.\n",
    "## Funciones inicales\n",
    "\n",
    "### Funcion lectura\n",
    "Ingresamos un archivo multifasta y arroja una lista con cada secuencia (contig)"
   ]
  },
  {
   "cell_type": "code",
   "execution_count": 3,
   "metadata": {},
   "outputs": [],
   "source": [
    "\n",
    "# funcion para lectura de archivos\n",
    "# ingresa un archivo multifasta y arroja una lista con cada secuencia (contig)\n",
    "dic = {}\n",
    "def lectura_genoma(File):\n",
    "    lista = []\n",
    "    with open(File,'r') as f:\n",
    "        lines=f.read() # lectura de cada linea del archivo\n",
    "        lines=lines.split('>') # identificador de '>'\n",
    "        lines=['>'+ x for x in lines[1:]] # lista con cada elemento que comienza con '>'\n",
    "        for x in lines:\n",
    "            x2 = x.replace(\"\\n\",\",\",1) # el primer '\\n' se reemplazapor una coma\n",
    "            x3 = x2.replace(\"\\n\",\"\") # los siguientes se quitan\n",
    "            lista.append(x3) # lista con un contig en cada elemento y su identificador\n",
    "\n",
    "        \n",
    "        \n",
    "        # LONGITUDES ¿¿¿???\n",
    "        # convertir la lista en un diccionario        \n",
    "        for x in lista:\n",
    "            x = x.split(',')\n",
    "            dic[x[0]] = x[1] \n",
    "        return(dic)     "
   ]
  },
  {
   "cell_type": "markdown",
   "metadata": {},
   "source": [
    "### Funcion de corte de reads\n",
    "Está función nos permite cortar los reads, solo requerimos una pocision de inicio y una longitud de corte.\n"
   ]
  },
  {
   "cell_type": "code",
   "execution_count": 4,
   "metadata": {},
   "outputs": [],
   "source": [
    "# funcion para cortar reads, dado una pocision de inicio y una longitud de corte\n",
    "def cutout(read,i,n_length): \n",
    "    cropped_read = read[i:i+n_length]\n",
    "    return(cropped_read) "
   ]
  },
  {
   "cell_type": "markdown",
   "metadata": {},
   "source": [
    "### Funcion cortes aleatorios\n",
    " Esta función nos permite cortar los reads aleatoriamente. Al ingresar un conjunto de genomas, este nos arroja un metagenoma con varios reads tomados de los genomas iniciales para esto se le entrega el numero de reads deseados por cada genoma y la longitud."
   ]
  },
  {
   "cell_type": "code",
   "execution_count": 5,
   "metadata": {},
   "outputs": [],
   "source": [
    "# funcion para cortar los reads aleatoriamente\n",
    "# Al ingresar un conjunto de genomas, este nos arroja un metagenoma con varios reads tomados de los genomas iniciales\n",
    "# para esto se le entrega el numero de reads deseados por cada genoma y la longitud.\n",
    "def reads(diccionario,longitud,num_reads):  # num_reads\n",
    "    dic2 = {}\n",
    "    contig = 0\n",
    "    k = 0\n",
    "    \n",
    "    # LONGITUD Y NUM_READS DEPENDERA DE LAS LONGITUDES DE LOS CONTIG\n",
    "    # LA LONGITUD \n",
    "    \n",
    "    #LAS LONGITUDES DEPENDEN DE LA CALIDAD\n",
    "    \n",
    "    while k < num_reads:\n",
    "        for key in diccionario:#range(len(diccionario.keys())):\n",
    "            newkey = key + '_' + str(k) \n",
    "            contig = random.choice(list(diccionario.values())) # escoje un contig al azar \n",
    "            i = randint(1,(len(contig)-longitud)) # toma una pocision de inicio al azar\n",
    "            dic2[newkey] = cutout(contig,i,longitud) # para el contig dado anteriormente, se corta desde la pocision i de lonjitud ln\n",
    "            # se debe calcular cuantas veces va a escoger cada contig,dependiendo del tamaño del contig inicial      \n",
    "        k += 1\n",
    "    return(dic2)"
   ]
  },
  {
   "cell_type": "markdown",
   "metadata": {},
   "source": [
    "Leer genomas y corre las funciones `lecturas_genomas` y `reads`\n"
   ]
  },
  {
   "cell_type": "code",
   "execution_count": 6,
   "metadata": {},
   "outputs": [],
   "source": [
    "# funcion de creacion archivo .fastq\n",
    "    \n",
    "def crea_fastq(diccionario,longitud,file_name):\n",
    "    file = open(file_name,'wt')\n",
    "    for key in diccionario: \n",
    "        file.write(str(key))\n",
    "        file.write(str('\\n'))\n",
    "        file.write(str(diccionario[key]))\n",
    "        file.write(str('\\n'))\n",
    "        file.write(str('+'))\n",
    "        file.write(str('\\n'))\n",
    "        file.write(str('A'*longitud)) #calidad\n",
    "        file.write(str('\\n'))     \n",
    "    file.close()\n",
    "    "
   ]
  },
  {
   "cell_type": "code",
   "execution_count": 7,
   "metadata": {},
   "outputs": [],
   "source": [
    "class CAMISIM_CAMI:\n",
    "    def __init__(self):\n",
    "        self.dic = {}\n",
    "        self.list = []\n",
    "        \n",
    "        #longitud   (ejem = 150 por defauld o agusto del usuario)\n",
    "        #numero de reads\n",
    "        \n",
    "    # funcion para lectura de archivos\n",
    "    # ingresa un archivo multifasta y arroja una lista con cada secuencia (contig)\n",
    "    dic = {}\n",
    "    def lectura_genoma(File):\n",
    "        lista = []\n",
    "        #with open(File,'r') as f: # con esta funcion podemos abrir un archivo en especifico con ruta completa\n",
    "        with open(ruta + '/' + File,'r') as f:  # con esta funcion podemos leer los nombres delos archivos de la lista 'genomes' y le agrega la ruta para la lectura \n",
    "            lines=f.read() # lectura decada linea del archivo\n",
    "            lines=lines.split('>') # identificador de '>'\n",
    "            lines=['>'+ x for x in lines[1:]] # lista con cada elemento que comienza con '>'\n",
    "            for x in lines:\n",
    "                x2 = x.replace(\"\\n\",\",\",1) # el primer '\\n' se reemplazapor una coma\n",
    "                x3 = x2.replace(\"\\n\",\"\") # los siguientes se quitan\n",
    "                lista.append(x3) # lista con un contig en cada elemento y su identificador\n",
    "            # convertir la lista en un diccionario        \n",
    "            for x in lista:\n",
    "                x = x.split(',')\n",
    "                dic[x[0]] = x[1] \n",
    "            return(dic)  \n",
    "    \n",
    "    # funcion para cortar reads, dado una pocision de inicio y una longitud de corte\n",
    "    def cutout(read,i,n_length): \n",
    "        cropped_read = read[i:i+n_length]\n",
    "        return(cropped_read) \n",
    "    \n",
    "    # funcion para cortar los reads aleatoriamente\n",
    "    # Al ingresar un conjunto de genomas, este nos arroja un metagenoma con varios reads tomados de los genomas iniciales\n",
    "    # para esto se le entrega el numero de reads deseados por cada genoma y la longitud.\n",
    "    def reads(diccionario,longitud,num_reads):  # num_reads\n",
    "        dic2 = {}\n",
    "        contig = 0\n",
    "        k = 0\n",
    "        while k < num_reads:\n",
    "            for key in diccionario:#range(len(diccionario.keys())):\n",
    "                newkey = key + '_' + str(k) \n",
    "                contig = random.choice(list(diccionario.values())) # escoje un contig al azar \n",
    "                i = randint(1,(len(contig)-longitud)) # toma una pocision de inicio al azar\n",
    "                dic2[newkey] = cutout(contig,i,longitud) # para el contig dado anteriormente, se corta desde la pocision i de lonjitud ln\n",
    "                # se debe calcular cuantas veces va a escoger cada contig,dependiendo del tamaño del contig inicial      \n",
    "            k += 1\n",
    "        return(dic2)\n",
    "    \n",
    "    # funcion de creacion archivo .fastq, tomandoel diccionario de reads cortados y la calidad de los reads\n",
    "    def crea_fastq(diccionario,longitud,file_name):\n",
    "        file = open(file_name,'wt')\n",
    "        for key in diccionario: \n",
    "            file.write(str(key))\n",
    "            file.write(str('\\n'))\n",
    "            file.write(str(diccionario[key]))\n",
    "            file.write(str('\\n'))\n",
    "            file.write(str('+'))\n",
    "            file.write(str('\\n'))\n",
    "            file.write(str('A'*longitud)) #calidad\n",
    "            file.write(str('\\n'))     \n",
    "        file.close()\n",
    "    "
   ]
  },
  {
   "cell_type": "code",
   "execution_count": 8,
   "metadata": {},
   "outputs": [],
   "source": [
    "# Funcion para la lectura de los nombres de los todos los archivos de genomas\n",
    "# toma la ruta de la carpeta donde estan los genomas, y crea un listado de los nombres de los archivos\n",
    "# para poder realizar la lectura de los mismos.\n",
    "ruta = '/home/betterlab/GIT/clavibacter/scripts-tda/genomas-clavi/clavi-genomes/genomas-prueba1/'\n",
    "contenido = os.listdir(ruta)\n",
    "genomes = []\n",
    "for i in contenido:\n",
    "    if os.path.isfile(os.path.join(ruta,i)) and i.endswith('.fna'):\n",
    "        genomes.append(i)\n",
    "n = len(genomes) # número de genomas (número de archivos)\n",
    "diccionario_reads_metagenoma = {}"
   ]
  },
  {
   "cell_type": "code",
   "execution_count": 9,
   "metadata": {},
   "outputs": [],
   "source": [
    "def todo(genomes,longitud,num_reads,file_name):\n",
    "\n",
    "    for i,x in enumerate(genomes):\n",
    "    \n",
    "        CAMISIM_CAMI.lectura_genoma(x)                        #\n",
    "        dicreads = CAMISIM_CAMI.reads(dic,longitud,num_reads) #funcion construcctora\n",
    "        fasta = CAMISIM_CAMI.crea_fastq(dicreads,longitud,file_name)\n",
    "#print(dic)"
   ]
  },
  {
   "cell_type": "code",
   "execution_count": null,
   "metadata": {},
   "outputs": [],
   "source": []
  }
 ],
 "metadata": {
  "kernelspec": {
   "display_name": "Python 3",
   "language": "python",
   "name": "python3"
  },
  "language_info": {
   "codemirror_mode": {
    "name": "ipython",
    "version": 3
   },
   "file_extension": ".py",
   "mimetype": "text/x-python",
   "name": "python",
   "nbconvert_exporter": "python",
   "pygments_lexer": "ipython3",
   "version": "3.6.5"
  }
 },
 "nbformat": 4,
 "nbformat_minor": 5
}
