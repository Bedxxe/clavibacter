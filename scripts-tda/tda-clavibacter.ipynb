{
 "cells": [
  {
   "cell_type": "code",
   "execution_count": 1,
   "metadata": {},
   "outputs": [],
   "source": [
    "import pandas as pd\n",
    "import csv\n",
    "\n",
    "import pysam\n",
    "import os\n",
    "import math\n",
    "import random\n",
    "import numpy as np\n",
    "\n",
    "from pathlib import Path\n",
    "from random import seed\n",
    "from random import randint"
   ]
  },
  {
   "cell_type": "code",
   "execution_count": null,
   "metadata": {},
   "outputs": [],
   "source": [
    "path="
   ]
  },
  {
   "cell_type": "markdown",
   "metadata": {},
   "source": [
    "Vamos a mapear los reads verdaderos de maiz a los genomas de la base de datos interna de referencia de _Clavibacter_ (BDIRC) \n",
    "0. Crear link simbolicos\n",
    "1. Indexar los genomas de BDIRC con bowtie\n",
    "2. Mapear con bowtie a esos genomas\n",
    "3. Si queremos visualizar los reads podemos usar tablet, y necesitamos samtools para indexar el genoma y ver los reads alineados.\n",
    "https://www.metagenomics.wiki/tools/bowtie2"
   ]
  },
  {
   "cell_type": "code",
   "execution_count": 32,
   "metadata": {},
   "outputs": [],
   "source": [
    "%%bash \n",
    "source ~/anaconda3/etc/profile.d/conda.sh\n",
    "conda activate metagenomics"
   ]
  },
  {
   "cell_type": "code",
   "execution_count": null,
   "metadata": {},
   "outputs": [],
   "source": [
    "\n",
    "\n"
   ]
  },
  {
   "cell_type": "markdown",
   "metadata": {},
   "source": [
    "A continuación creamos indices con para cada uno de los genomas refencia, para ello utilizamos el comando `bowtie2-build`. Los respectivos archivos de salida los almacenamos en la carpeta `index-bowtie`. Adicionalmente, creamos el archivo `list-genomes.txt` que contiene los nombre de cada archivo de salida del `bowtie2-build`."
   ]
  },
  {
   "cell_type": "code",
   "execution_count": 30,
   "metadata": {},
   "outputs": [
    {
     "name": "stderr",
     "output_type": "stream",
     "text": [
      "bash: line 6: bowtie2-build: command not found\n",
      "bash: line 6: bowtie2-build: command not found\n",
      "bash: line 6: bowtie2-build: command not found\n",
      "bash: line 6: bowtie2-build: command not found\n",
      "bash: line 6: bowtie2-build: command not found\n",
      "bash: line 6: bowtie2-build: command not found\n",
      "bash: line 6: bowtie2-build: command not found\n",
      "bash: line 6: bowtie2-build: command not found\n",
      "bash: line 6: bowtie2-build: command not found\n",
      "bash: line 6: bowtie2-build: command not found\n",
      "bash: line 6: bowtie2-build: command not found\n",
      "bash: line 6: bowtie2-build: command not found\n",
      "bash: line 6: bowtie2-build: command not found\n",
      "bash: line 6: bowtie2-build: command not found\n",
      "bash: line 6: bowtie2-build: command not found\n",
      "bash: line 6: bowtie2-build: command not found\n",
      "bash: line 6: bowtie2-build: command not found\n",
      "bash: line 6: bowtie2-build: command not found\n",
      "bash: line 6: bowtie2-build: command not found\n",
      "bash: line 6: bowtie2-build: command not found\n",
      "bash: line 6: bowtie2-build: command not found\n",
      "bash: line 6: bowtie2-build: command not found\n",
      "bash: line 6: bowtie2-build: command not found\n",
      "bash: line 6: bowtie2-build: command not found\n",
      "bash: line 6: bowtie2-build: command not found\n",
      "bash: line 6: bowtie2-build: command not found\n",
      "bash: line 6: bowtie2-build: command not found\n",
      "bash: line 6: bowtie2-build: command not found\n"
     ]
    }
   ],
   "source": [
    "%%bash\n",
    "#source ~/anaconda3/etc/profile.d/conda.sh\n",
    "#conda activate metagenomics\n",
    "ls genomas-clavi/clavi-genomes/*fna | while read line; \n",
    "do \n",
    "    id=$(echo $line| rev| cut -d'_' -f1,2,3 |rev |cut -d'.' -f1);\n",
    "    bowtie2-build $line genomas-clavi/clavi-genomes/index-bowtie/$id;\n",
    "    echo \"$id\" >>list-genomes.txt\n",
    "done\n",
    "\n",
    "#Por ahora solo corre en bash\n",
    "\n",
    "\n",
    "\n"
   ]
  },
  {
   "cell_type": "markdown",
   "metadata": {},
   "source": [
    "Lo siguiente es mapear los reads a los genomas de referencia, utilizamos `bowtie2` y obtenemos arhivos de salidas *.sam* que guardaremos en la carpeta `output-bowtie` "
   ]
  },
  {
   "cell_type": "markdown",
   "metadata": {},
   "source": [
    "#reference=subsp_capsici_1101  ; usar para extraer las lineas de archivo sed '1q;d' index-genomes.txt\n",
    "for infile in ex-reads-clavi/fastq/fastq/capsicum/*-clav-1.fq\n",
    " do \n",
    "base=$(basename ${infile} -clav-1.fq)\n",
    "dir=$(dirname ${infile} )\n",
    "bowtie2 -x genomas-clavi/clavi-genomes/index-bowtie/subsp_capsici_1101 -1 ${dir}/${base}-clav-1.fq -2 ${dir}/${base}-clav-2.fq  --no-unal -p 12 -S genomas-clavi/clavi-genomes/out-bowtie/${base}.sam\n",
    "done"
   ]
  },
  {
   "cell_type": "code",
   "execution_count": 1,
   "metadata": {},
   "outputs": [
    {
     "name": "stderr",
     "output_type": "stream",
     "text": [
      "01-mapear-reads-a-referencia.sh: line 11: bowtie2: command not found\n",
      "01-mapear-reads-a-referencia.sh: line 11: bowtie2: command not found\n",
      "01-mapear-reads-a-referencia.sh: line 11: bowtie2: command not found\n",
      "01-mapear-reads-a-referencia.sh: line 11: bowtie2: command not found\n",
      "01-mapear-reads-a-referencia.sh: line 11: bowtie2: command not found\n",
      "01-mapear-reads-a-referencia.sh: line 11: bowtie2: command not found\n",
      "01-mapear-reads-a-referencia.sh: line 11: bowtie2: command not found\n",
      "01-mapear-reads-a-referencia.sh: line 11: bowtie2: command not found\n",
      "01-mapear-reads-a-referencia.sh: line 11: bowtie2: command not found\n",
      "01-mapear-reads-a-referencia.sh: line 11: bowtie2: command not found\n",
      "01-mapear-reads-a-referencia.sh: line 11: bowtie2: command not found\n",
      "01-mapear-reads-a-referencia.sh: line 11: bowtie2: command not found\n",
      "01-mapear-reads-a-referencia.sh: line 11: bowtie2: command not found\n",
      "01-mapear-reads-a-referencia.sh: line 11: bowtie2: command not found\n",
      "01-mapear-reads-a-referencia.sh: line 11: bowtie2: command not found\n",
      "01-mapear-reads-a-referencia.sh: line 11: bowtie2: command not found\n",
      "01-mapear-reads-a-referencia.sh: line 11: bowtie2: command not found\n",
      "01-mapear-reads-a-referencia.sh: line 11: bowtie2: command not found\n"
     ]
    }
   ],
   "source": [
    "%%bash\n",
    "bash 01-mapear-reads-a-referencia.sh insidiosus_CFBP_2404"
   ]
  },
  {
   "cell_type": "markdown",
   "metadata": {},
   "source": [
    "Ahora corremos el scrip `01-mapear-reads-a-referencia.sh` por cada una de la lista de genomas que se encuentra en `index-genomes.txt´ "
   ]
  },
  {
   "cell_type": "code",
   "execution_count": null,
   "metadata": {},
   "outputs": [],
   "source": [
    "cat index-genomes.txt | while read line;\n",
    "do\n",
    "    bash 01-mapear-reads-a-referencia.sh $line\n",
    "done"
   ]
  },
  {
   "cell_type": "markdown",
   "metadata": {},
   "source": [
    "## Prueba 1: Utilizar solo 3 genomas\n",
    "Ahora procedor hacer lo anterior son con 3 genomas, 1 de Clavibacter Michiganensis Michiganensis (cmm), y 2 de Michagenesis capsisi. \n",
    "Primero cremos los index\n",
    "\n"
   ]
  },
  {
   "cell_type": "code",
   "execution_count": 56,
   "metadata": {},
   "outputs": [
    {
     "name": "stdout",
     "output_type": "stream",
     "text": [
      "Settings:\n",
      "  Output files: \"genomas-clavi/clavi-genomes/genomas-prueba1/index-bowtie/subsp_capsici_1101.*.bt2\"\n",
      "  Line rate: 6 (line is 64 bytes)\n",
      "  Lines per side: 1 (side is 64 bytes)\n",
      "  Offset rate: 4 (one in 16)\n",
      "  FTable chars: 10\n",
      "  Strings: unpacked\n",
      "  Max bucket size: default\n",
      "  Max bucket size, sqrt multiplier: default\n",
      "  Max bucket size, len divisor: 4\n",
      "  Difference-cover sample period: 1024\n",
      "  Endianness: little\n",
      "  Actual local endianness: little\n",
      "  Sanity checking: disabled\n",
      "  Assertions: disabled\n",
      "  Random seed: 0\n",
      "  Sizeofs: void*:8, int:4, long:8, size_t:8\n",
      "Input files DNA, FASTA:\n",
      "  genomas-clavi/clavi-genomes/genomas-prueba1/Clavibacter_michiganensis_subsp_capsici_1101.fna-cortado.fna\n",
      "Reading reference sizes\n",
      "  Time reading reference sizes: 00:00:00\n",
      "Total time for call to driver() for forward index: 00:00:00\n",
      "Settings:\n",
      "  Output files: \"genomas-clavi/clavi-genomes/genomas-prueba1/index-bowtie/subsp_capsici_1106.*.bt2\"\n",
      "  Line rate: 6 (line is 64 bytes)\n",
      "  Lines per side: 1 (side is 64 bytes)\n",
      "  Offset rate: 4 (one in 16)\n",
      "  FTable chars: 10\n",
      "  Strings: unpacked\n",
      "  Max bucket size: default\n",
      "  Max bucket size, sqrt multiplier: default\n",
      "  Max bucket size, len divisor: 4\n",
      "  Difference-cover sample period: 1024\n",
      "  Endianness: little\n",
      "  Actual local endianness: little\n",
      "  Sanity checking: disabled\n",
      "  Assertions: disabled\n",
      "  Random seed: 0\n",
      "  Sizeofs: void*:8, int:4, long:8, size_t:8\n",
      "Input files DNA, FASTA:\n",
      "  genomas-clavi/clavi-genomes/genomas-prueba1/Clavibacter_michiganensis_subsp_capsici_1106.fna-cortado.fna\n",
      "Reading reference sizes\n",
      "  Time reading reference sizes: 00:00:00\n",
      "Total time for call to driver() for forward index: 00:00:00\n",
      "Settings:\n",
      "  Output files: \"genomas-clavi/clavi-genomes/genomas-prueba1/index-bowtie/subsp_michi_contigs.*.bt2\"\n",
      "  Line rate: 6 (line is 64 bytes)\n",
      "  Lines per side: 1 (side is 64 bytes)\n",
      "  Offset rate: 4 (one in 16)\n",
      "  FTable chars: 10\n",
      "  Strings: unpacked\n",
      "  Max bucket size: default\n",
      "  Max bucket size, sqrt multiplier: default\n",
      "  Max bucket size, len divisor: 4\n",
      "  Difference-cover sample period: 1024\n",
      "  Endianness: little\n",
      "  Actual local endianness: little\n",
      "  Sanity checking: disabled\n",
      "  Assertions: disabled\n",
      "  Random seed: 0\n",
      "  Sizeofs: void*:8, int:4, long:8, size_t:8\n",
      "Input files DNA, FASTA:\n",
      "  genomas-clavi/clavi-genomes/genomas-prueba1/Clavibacter_michiganensis_subsp_michi_contigs.fna\n",
      "Reading reference sizes\n",
      "  Time reading reference sizes: 00:00:00\n",
      "Total time for call to driver() for forward index: 00:00:00\n"
     ]
    },
    {
     "name": "stderr",
     "output_type": "stream",
     "text": [
      "Building a SMALL index\n",
      "Could not open index file for writing: \"genomas-clavi/clavi-genomes/genomas-prueba1/index-bowtie/subsp_capsici_1101.3.bt2\"\n",
      "Please make sure the directory exists and that permissions allow writing by\n",
      "Bowtie.\n",
      "Error: Encountered internal Bowtie 2 exception (#1)\n",
      "Command: /opt/anaconda3/envs/metagenomics/bin/bowtie2-build-s --wrapper basic-0 genomas-clavi/clavi-genomes/genomas-prueba1/Clavibacter_michiganensis_subsp_capsici_1101.fna-cortado.fna genomas-clavi/clavi-genomes/genomas-prueba1/index-bowtie/subsp_capsici_1101 \n",
      "Deleting \"genomas-clavi/clavi-genomes/genomas-prueba1/index-bowtie/subsp_capsici_1101.3.bt2\" file written during aborted indexing attempt.\n",
      "Deleting \"genomas-clavi/clavi-genomes/genomas-prueba1/index-bowtie/subsp_capsici_1101.4.bt2\" file written during aborted indexing attempt.\n",
      "Building a SMALL index\n",
      "Could not open index file for writing: \"genomas-clavi/clavi-genomes/genomas-prueba1/index-bowtie/subsp_capsici_1106.3.bt2\"\n",
      "Please make sure the directory exists and that permissions allow writing by\n",
      "Bowtie.\n",
      "Error: Encountered internal Bowtie 2 exception (#1)\n",
      "Command: /opt/anaconda3/envs/metagenomics/bin/bowtie2-build-s --wrapper basic-0 genomas-clavi/clavi-genomes/genomas-prueba1/Clavibacter_michiganensis_subsp_capsici_1106.fna-cortado.fna genomas-clavi/clavi-genomes/genomas-prueba1/index-bowtie/subsp_capsici_1106 \n",
      "Deleting \"genomas-clavi/clavi-genomes/genomas-prueba1/index-bowtie/subsp_capsici_1106.3.bt2\" file written during aborted indexing attempt.\n",
      "Deleting \"genomas-clavi/clavi-genomes/genomas-prueba1/index-bowtie/subsp_capsici_1106.4.bt2\" file written during aborted indexing attempt.\n",
      "Building a SMALL index\n",
      "Could not open index file for writing: \"genomas-clavi/clavi-genomes/genomas-prueba1/index-bowtie/subsp_michi_contigs.3.bt2\"\n",
      "Please make sure the directory exists and that permissions allow writing by\n",
      "Bowtie.\n",
      "Error: Encountered internal Bowtie 2 exception (#1)\n",
      "Command: /opt/anaconda3/envs/metagenomics/bin/bowtie2-build-s --wrapper basic-0 genomas-clavi/clavi-genomes/genomas-prueba1/Clavibacter_michiganensis_subsp_michi_contigs.fna genomas-clavi/clavi-genomes/genomas-prueba1/index-bowtie/subsp_michi_contigs \n",
      "Deleting \"genomas-clavi/clavi-genomes/genomas-prueba1/index-bowtie/subsp_michi_contigs.3.bt2\" file written during aborted indexing attempt.\n",
      "Deleting \"genomas-clavi/clavi-genomes/genomas-prueba1/index-bowtie/subsp_michi_contigs.4.bt2\" file written during aborted indexing attempt.\n"
     ]
    }
   ],
   "source": [
    "%%bash\n",
    "source ~/anaconda3/etc/profile.d/conda.sh\n",
    "conda activate metagenomics\n",
    "ls genomas-clavi/clavi-genomes/genomas-prueba1/*fna | while read line; \n",
    "do \n",
    "    id=$(echo $line| rev| cut -d'_' -f1,2,3 |rev |cut -d'.' -f1);\n",
    "    bowtie2-build $line genomas-clavi/clavi-genomes/genomas-prueba1/index-bowtie/$id;\n",
    "    echo \"$id\" >>list-genomasrefencia.txt\n",
    "done"
   ]
  },
  {
   "cell_type": "markdown",
   "metadata": {},
   "source": [
    "Ahora, hacemos el mapeo de los read simulados a cada genoma de refencia previamente indexado\n"
   ]
  },
  {
   "cell_type": "code",
   "execution_count": 57,
   "metadata": {},
   "outputs": [
    {
     "name": "stderr",
     "output_type": "stream",
     "text": [
      "700000 reads; of these:\n",
      "  700000 (100.00%) were unpaired; of these:\n",
      "    232352 (33.19%) aligned 0 times\n",
      "    460838 (65.83%) aligned exactly 1 time\n",
      "    6810 (0.97%) aligned >1 times\n",
      "66.81% overall alignment rate\n",
      "700000 reads; of these:\n",
      "  700000 (100.00%) were unpaired; of these:\n",
      "    231193 (33.03%) aligned 0 times\n",
      "    462956 (66.14%) aligned exactly 1 time\n",
      "    5851 (0.84%) aligned >1 times\n",
      "66.97% overall alignment rate\n",
      "700000 reads; of these:\n",
      "  700000 (100.00%) were unpaired; of these:\n",
      "    254665 (36.38%) aligned 0 times\n",
      "    421192 (60.17%) aligned exactly 1 time\n",
      "    24143 (3.45%) aligned >1 times\n",
      "63.62% overall alignment rate\n"
     ]
    }
   ],
   "source": [
    "%%bash\n",
    "source ~/anaconda3/etc/profile.d/conda.sh\n",
    "conda activate metagenomics\n",
    "\n",
    "cat list-genomasrefencia.txt | while read line;\n",
    "do\n",
    "bowtie2 -x output-tda/prueba-3genomas/index-bowtie/$line -U reads-simulados100M.fastq --no-unal -p 12 -S output-tda/prueba-3genomas/out-bowtie/Simulados-${line}.sam\n",
    "done"
   ]
  },
  {
   "cell_type": "markdown",
   "metadata": {},
   "source": [
    "### Crear archivos .bam para visualizar y extraer información del match"
   ]
  },
  {
   "cell_type": "code",
   "execution_count": 58,
   "metadata": {},
   "outputs": [],
   "source": [
    "%%bash\n",
    "for infile in output-tda/prueba-3genomas/out-bowtie/*.sam\n",
    "do \n",
    "\tbase=$(basename ${infile} .sam)\n",
    "\tsamtools view -b -S ${infile} -o output-tda/prueba-3genomas/bam/${base}.bam\n",
    "done"
   ]
  },
  {
   "cell_type": "markdown",
   "metadata": {},
   "source": [
    "Crea un archivo *.txt con la salida mostrando el identificador y el read que identifico en el genoma referencia."
   ]
  },
  {
   "cell_type": "code",
   "execution_count": 79,
   "metadata": {},
   "outputs": [],
   "source": [
    "%%bash\n",
    "for infile in output-tda/prueba-3genomas/bam/*.bam\n",
    "do \n",
    "\tbase=$(basename ${infile} .bam)\n",
    "\t#samtools sort ${infile} -o output-tda/prueba-3genomas/bam/${base}_sorted.bam\n",
    "\tsamtools view ${infile} > output-tda/prueba-3genomas/bam/${base}.txt\n",
    "done"
   ]
  },
  {
   "cell_type": "code",
   "execution_count": null,
   "metadata": {},
   "outputs": [],
   "source": [
    "for infile in output-tda/prueba-3genomas/bam/*sorted.bam\n",
    "do \n",
    "\tsamtools index ${infile} \n",
    "done"
   ]
  },
  {
   "cell_type": "markdown",
   "metadata": {},
   "source": [
    "Obtener las columnas que nos interesan de los archivos .sam"
   ]
  },
  {
   "cell_type": "code",
   "execution_count": 80,
   "metadata": {},
   "outputs": [],
   "source": [
    "%%bash\n",
    "cd ~/GIT/clavibacter/scripts-tda/\n",
    "ls output-tda/prueba-3genomas/bam/*.txt | while read line\n",
    "do\n",
    "    base=$(basename ${line} .txt)\n",
    "    cut -f 1-6 $line > output-tda/prueba-3genomas/tablas/${base}_extrac.txt\n",
    "done"
   ]
  },
  {
   "cell_type": "markdown",
   "metadata": {},
   "source": [
    "\n",
    "Importar tablas de mapeos\n"
   ]
  },
  {
   "cell_type": "code",
   "execution_count": 2,
   "metadata": {},
   "outputs": [
    {
     "data": {
      "text/html": [
       "<div>\n",
       "<style scoped>\n",
       "    .dataframe tbody tr th:only-of-type {\n",
       "        vertical-align: middle;\n",
       "    }\n",
       "\n",
       "    .dataframe tbody tr th {\n",
       "        vertical-align: top;\n",
       "    }\n",
       "\n",
       "    .dataframe thead th {\n",
       "        text-align: right;\n",
       "    }\n",
       "</style>\n",
       "<table border=\"1\" class=\"dataframe\">\n",
       "  <thead>\n",
       "    <tr style=\"text-align: right;\">\n",
       "      <th></th>\n",
       "      <th>Qname</th>\n",
       "      <th>Flag</th>\n",
       "      <th>Rname</th>\n",
       "      <th>Pos</th>\n",
       "      <th>MapQ</th>\n",
       "      <th>CIGAR</th>\n",
       "      <th>Organims</th>\n",
       "    </tr>\n",
       "  </thead>\n",
       "  <tbody>\n",
       "    <tr>\n",
       "      <td>0</td>\n",
       "      <td>NZ_CP048049.1_0</td>\n",
       "      <td>16</td>\n",
       "      <td>NZ_CP048048.1</td>\n",
       "      <td>111591</td>\n",
       "      <td>42</td>\n",
       "      <td>150M</td>\n",
       "      <td>capsici_1106</td>\n",
       "    </tr>\n",
       "    <tr>\n",
       "      <td>1</td>\n",
       "      <td>NC_009478.1_0</td>\n",
       "      <td>0</td>\n",
       "      <td>NZ_CP048047.1</td>\n",
       "      <td>2691532</td>\n",
       "      <td>42</td>\n",
       "      <td>150M</td>\n",
       "      <td>capsici_1106</td>\n",
       "    </tr>\n",
       "    <tr>\n",
       "      <td>2</td>\n",
       "      <td>NC_009479.1_0</td>\n",
       "      <td>0</td>\n",
       "      <td>NZ_CP048048.1</td>\n",
       "      <td>81328</td>\n",
       "      <td>42</td>\n",
       "      <td>150M</td>\n",
       "      <td>capsici_1106</td>\n",
       "    </tr>\n",
       "    <tr>\n",
       "      <td>3</td>\n",
       "      <td>NZ_CP048048.1_0</td>\n",
       "      <td>0</td>\n",
       "      <td>NZ_CP048047.1</td>\n",
       "      <td>407360</td>\n",
       "      <td>42</td>\n",
       "      <td>150M</td>\n",
       "      <td>capsici_1106</td>\n",
       "    </tr>\n",
       "    <tr>\n",
       "      <td>4</td>\n",
       "      <td>NZ_CP048050.1_1</td>\n",
       "      <td>0</td>\n",
       "      <td>NZ_CP048048.1</td>\n",
       "      <td>44206</td>\n",
       "      <td>42</td>\n",
       "      <td>150M</td>\n",
       "      <td>capsici_1106</td>\n",
       "    </tr>\n",
       "    <tr>\n",
       "      <td>...</td>\n",
       "      <td>...</td>\n",
       "      <td>...</td>\n",
       "      <td>...</td>\n",
       "      <td>...</td>\n",
       "      <td>...</td>\n",
       "      <td>...</td>\n",
       "      <td>...</td>\n",
       "    </tr>\n",
       "    <tr>\n",
       "      <td>445330</td>\n",
       "      <td>NZ_CP048047.1_99998</td>\n",
       "      <td>0</td>\n",
       "      <td>NC_009478.1</td>\n",
       "      <td>22686</td>\n",
       "      <td>42</td>\n",
       "      <td>150M</td>\n",
       "      <td>michi_contigs</td>\n",
       "    </tr>\n",
       "    <tr>\n",
       "      <td>445331</td>\n",
       "      <td>NZ_CP048050.1_99999</td>\n",
       "      <td>0</td>\n",
       "      <td>NC_009480.1</td>\n",
       "      <td>949300</td>\n",
       "      <td>42</td>\n",
       "      <td>150M</td>\n",
       "      <td>michi_contigs</td>\n",
       "    </tr>\n",
       "    <tr>\n",
       "      <td>445332</td>\n",
       "      <td>NC_009480.1_99999</td>\n",
       "      <td>0</td>\n",
       "      <td>NC_009480.1</td>\n",
       "      <td>3195538</td>\n",
       "      <td>42</td>\n",
       "      <td>150M</td>\n",
       "      <td>michi_contigs</td>\n",
       "    </tr>\n",
       "    <tr>\n",
       "      <td>445333</td>\n",
       "      <td>NC_009479.1_99999</td>\n",
       "      <td>0</td>\n",
       "      <td>NC_009480.1</td>\n",
       "      <td>395903</td>\n",
       "      <td>42</td>\n",
       "      <td>150M</td>\n",
       "      <td>michi_contigs</td>\n",
       "    </tr>\n",
       "    <tr>\n",
       "      <td>445334</td>\n",
       "      <td>NZ_CP048048.1_99999</td>\n",
       "      <td>0</td>\n",
       "      <td>NC_009480.1</td>\n",
       "      <td>370466</td>\n",
       "      <td>24</td>\n",
       "      <td>150M</td>\n",
       "      <td>michi_contigs</td>\n",
       "    </tr>\n",
       "  </tbody>\n",
       "</table>\n",
       "<p>1381790 rows × 7 columns</p>\n",
       "</div>"
      ],
      "text/plain": [
       "                      Qname  Flag          Rname      Pos  MapQ CIGAR  \\\n",
       "0           NZ_CP048049.1_0    16  NZ_CP048048.1   111591    42  150M   \n",
       "1             NC_009478.1_0     0  NZ_CP048047.1  2691532    42  150M   \n",
       "2             NC_009479.1_0     0  NZ_CP048048.1    81328    42  150M   \n",
       "3           NZ_CP048048.1_0     0  NZ_CP048047.1   407360    42  150M   \n",
       "4           NZ_CP048050.1_1     0  NZ_CP048048.1    44206    42  150M   \n",
       "...                     ...   ...            ...      ...   ...   ...   \n",
       "445330  NZ_CP048047.1_99998     0    NC_009478.1    22686    42  150M   \n",
       "445331  NZ_CP048050.1_99999     0    NC_009480.1   949300    42  150M   \n",
       "445332    NC_009480.1_99999     0    NC_009480.1  3195538    42  150M   \n",
       "445333    NC_009479.1_99999     0    NC_009480.1   395903    42  150M   \n",
       "445334  NZ_CP048048.1_99999     0    NC_009480.1   370466    24  150M   \n",
       "\n",
       "             Organims  \n",
       "0        capsici_1106  \n",
       "1        capsici_1106  \n",
       "2        capsici_1106  \n",
       "3        capsici_1106  \n",
       "4        capsici_1106  \n",
       "...               ...  \n",
       "445330  michi_contigs  \n",
       "445331  michi_contigs  \n",
       "445332  michi_contigs  \n",
       "445333  michi_contigs  \n",
       "445334  michi_contigs  \n",
       "\n",
       "[1381790 rows x 7 columns]"
      ]
     },
     "execution_count": 2,
     "metadata": {},
     "output_type": "execute_result"
    }
   ],
   "source": [
    "ruta_tablas = '/home/betterlab/GIT/clavibacter/scripts-tda/output-tda/prueba-3genomas/tablas/'\n",
    "contenido = os.listdir(ruta_tablas)\n",
    "genomes = []\n",
    "df=[]\n",
    "for i in contenido:\n",
    "    dftt = pd.read_csv(ruta_tablas + i, sep='\\t', header=None) #importar las tablas para cada genoma\n",
    "    dftt['Organims']=i[16:-11] #agregar el nombre del organismo\n",
    "    df.append(dftt) #agregar al dataframe\n",
    "    genomes.append(i[16:-11])\n",
    "    \n",
    "df=pd.concat(df)\n",
    "df.columns= ['Qname','Flag', 'Rname', 'Pos','MapQ','CIGAR','Organims'] #cambiar nombre a las columnas del dataframe\n",
    "df "
   ]
  },
  {
   "cell_type": "code",
   "execution_count": 3,
   "metadata": {},
   "outputs": [],
   "source": [
    "df.to_csv('MapeoReads-organismos.csv')"
   ]
  },
  {
   "cell_type": "code",
   "execution_count": 4,
   "metadata": {},
   "outputs": [
    {
     "data": {
      "text/plain": [
       "Qname                Organims     \n",
       "NC_009478.1_0        capsici_1101     1\n",
       "                     capsici_1106     1\n",
       "                     michi_contigs    1\n",
       "NC_009478.1_1        michi_contigs    1\n",
       "NC_009478.1_10       capsici_1101     1\n",
       "                                     ..\n",
       "NZ_CP048050.1_99998  capsici_1101     1\n",
       "                     capsici_1106     1\n",
       "NZ_CP048050.1_99999  capsici_1101     1\n",
       "                     capsici_1106     1\n",
       "                     michi_contigs    1\n",
       "Name: Qname, Length: 1381790, dtype: int64"
      ]
     },
     "execution_count": 4,
     "metadata": {},
     "output_type": "execute_result"
    }
   ],
   "source": [
    "df2=df.groupby(['Qname','Organims'])['Qname'].count()\n",
    "df2"
   ]
  },
  {
   "cell_type": "code",
   "execution_count": null,
   "metadata": {},
   "outputs": [],
   "source": []
  },
  {
   "cell_type": "code",
   "execution_count": null,
   "metadata": {},
   "outputs": [],
   "source": []
  }
 ],
 "metadata": {
  "kernelspec": {
   "display_name": "Python 3",
   "language": "python",
   "name": "python3"
  },
  "language_info": {
   "codemirror_mode": {
    "name": "ipython",
    "version": 3
   },
   "file_extension": ".py",
   "mimetype": "text/x-python",
   "name": "python",
   "nbconvert_exporter": "python",
   "pygments_lexer": "ipython3",
   "version": "3.6.5"
  }
 },
 "nbformat": 4,
 "nbformat_minor": 2
}
