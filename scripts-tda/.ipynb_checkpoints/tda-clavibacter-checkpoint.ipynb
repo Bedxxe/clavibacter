{
 "cells": [
  {
   "cell_type": "code",
   "execution_count": 1,
   "metadata": {},
   "outputs": [],
   "source": [
    "import pandas as pd\n",
    "import seaborn as sb\n",
    "import csv\n",
    "from sympy import FiniteSet\n",
    "\n",
    "#import pysam\n",
    "import os\n",
    "import math\n",
    "import random\n",
    "import numpy as np\n",
    "\n",
    "from pathlib import Path\n",
    "from random import seed\n",
    "from random import randint"
   ]
  },
  {
   "cell_type": "code",
   "execution_count": 2,
   "metadata": {},
   "outputs": [],
   "source": [
    "#funciones\n",
    "\n",
    "def powerset(fullset):\n",
    "  listsub = list(fullset)\n",
    "  subsets = []\n",
    "  for i in range(2**len(listsub)):\n",
    "    subset = []\n",
    "    for k in range(len(listsub)):            \n",
    "      if i & 1<<k:\n",
    "        subset.append(listsub[k])\n",
    "    subsets.append(subset)        \n",
    "  return subsets"
   ]
  },
  {
   "cell_type": "markdown",
   "metadata": {},
   "source": [
    "Vamos a mapear los reads verdaderos de maiz a los genomas de la base de datos interna de referencia de _Clavibacter_ (BDIRC) \n",
    "0. Crear link simbolicos\n",
    "1. Indexar los genomas de BDIRC con bowtie\n",
    "2. Mapear con bowtie a esos genomas\n",
    "3. Si queremos visualizar los reads podemos usar tablet, y necesitamos samtools para indexar el genoma y ver los reads alineados.\n",
    "https://www.metagenomics.wiki/tools/bowtie2"
   ]
  },
  {
   "cell_type": "code",
   "execution_count": 2,
   "metadata": {},
   "outputs": [],
   "source": [
    "%%bash \n",
    "source ~/anaconda3/etc/profile.d/conda.sh\n",
    "conda activate metagenomics"
   ]
  },
  {
   "cell_type": "markdown",
   "metadata": {},
   "source": [
    "A continuación creamos indices con para cada uno de los genomas refencia, para ello utilizamos el comando `bowtie2-build`. Los respectivos archivos de salida los almacenamos en la carpeta `index-bowtie`. Adicionalmente, creamos el archivo `list-genomes.txt` que contiene los nombre de cada archivo de salida del `bowtie2-build`."
   ]
  },
  {
   "cell_type": "code",
   "execution_count": null,
   "metadata": {},
   "outputs": [],
   "source": [
    "\n",
    "%%bash \n",
    "source ~/anaconda3/etc/profile.d/conda.sh\n",
    "conda activate metagenomics\n",
    "ls genomas-clavi/clavi-genomes/*fna | while read line; \n",
    "do \n",
    "    id=$(echo $line| rev| cut -d'_' -f1,2,3 |rev |cut -d'.' -f1);\n",
    "    bowtie2-build $line genomas-clavi/clavi-genomes/index-bowtie/$id;\n",
    "    echo \"$id\" >>list-genomes.txt\n",
    "done\n",
    "\n",
    "#Por ahora solo corre en bash\n",
    "\n",
    "\n"
   ]
  },
  {
   "cell_type": "markdown",
   "metadata": {},
   "source": [
    "Lo siguiente es mapear los reads a los genomas de referencia, utilizamos `bowtie2` y obtenemos arhivos de salidas *.sam* que guardaremos en la carpeta `output-bowtie` "
   ]
  },
  {
   "cell_type": "markdown",
   "metadata": {},
   "source": [
    "#reference=subsp_capsici_1101  ; usar para extraer las lineas de archivo sed '1q;d' index-genomes.txt\n",
    "for infile in ex-reads-clavi/fastq/fastq/capsicum/*-clav-1.fq\n",
    " do \n",
    "base=$(basename ${infile} -clav-1.fq)\n",
    "dir=$(dirname ${infile} )\n",
    "bowtie2 -x genomas-clavi/clavi-genomes/index-bowtie/subsp_capsici_1101 -1 ${dir}/${base}-clav-1.fq -2 ${dir}/${base}-clav-2.fq  --no-unal -p 12 -S genomas-clavi/clavi-genomes/out-bowtie/${base}.sam\n",
    "done"
   ]
  },
  {
   "cell_type": "code",
   "execution_count": null,
   "metadata": {},
   "outputs": [],
   "source": [
    "%%bash \n",
    "source ~/anaconda3/etc/profile.d/conda.sh\n",
    "conda activate metagenomics\n",
    "bash 01-mapear-reads-a-referencia.sh insidiosus_CFBP_2404"
   ]
  },
  {
   "cell_type": "markdown",
   "metadata": {},
   "source": [
    "Ahora corremos el scrip `01-mapear-reads-a-referencia.sh` por cada una de la lista de genomas que se encuentra en `index-genomes.txt´ "
   ]
  },
  {
   "cell_type": "code",
   "execution_count": null,
   "metadata": {},
   "outputs": [],
   "source": [
    "cat index-genomes.txt | while read line;\n",
    "do\n",
    "    bash 01-mapear-reads-a-referencia.sh $line\n",
    "done"
   ]
  },
  {
   "cell_type": "markdown",
   "metadata": {},
   "source": [
    "## Prueba 1: Utilizar solo 3 genomas\n",
    "Ahora procedor hacer lo anterior son con 3 genomas, 1 de Clavibacter Michiganensis Michiganensis (cmm), y 2 de Michagenesis capsisi. \n",
    "Primero cremos los index\n",
    "\n"
   ]
  },
  {
   "cell_type": "code",
   "execution_count": null,
   "metadata": {},
   "outputs": [],
   "source": [
    "%%bash\n",
    "source ~/anaconda3/etc/profile.d/conda.sh\n",
    "conda activate metagenomics\n",
    "ls genomas-clavi/clavi-genomes/genomas-prueba1/*fna | while read line; \n",
    "do \n",
    "    id=$(echo $line| rev| cut -d'_' -f1,2,3 |rev |cut -d'.' -f1);\n",
    "    bowtie2-build $line genomas-clavi/clavi-genomes/genomas-prueba1/index-bowtie/$id;\n",
    "    echo \"$id\" >>list-genomasrefencia.txt\n",
    "done"
   ]
  },
  {
   "cell_type": "markdown",
   "metadata": {},
   "source": [
    "Ahora, hacemos el mapeo de los read simulados a cada genoma de refencia previamente indexado\n"
   ]
  },
  {
   "cell_type": "code",
   "execution_count": null,
   "metadata": {},
   "outputs": [],
   "source": [
    "%%bash\n",
    "#source ~/anaconda3/etc/profile.d/conda.sh\n",
    "conda activate metagenomics\n",
    "\n",
    "cat list-genomasrefencia.txt | while read line;\n",
    "do\n",
    "bowtie2 -x output-tda/prueba-3genomas/index-bowtie/$line -U reads-sim1K.fastq.fastq --no-unal -p 12 -S output-tda/prueba1Kread/out-bowtie/Simulados-${line}.sam\n",
    "done"
   ]
  },
  {
   "cell_type": "markdown",
   "metadata": {},
   "source": [
    "### Crear archivos .bam para visualizar y extraer información del match"
   ]
  },
  {
   "cell_type": "code",
   "execution_count": 6,
   "metadata": {},
   "outputs": [],
   "source": [
    "%%bash\n",
    "for infile in output-tda/prueba1Kread/out-bowtie/*.sam\n",
    "do \n",
    "\tbase=$(basename ${infile} .sam)\n",
    "\tsamtools view ${infile} -o output-tda/prueba1Kread/bam/${base}.bam\n",
    "    samtools sort ${infile} -o output-tda/prueba1Kread/sorted/${base}_sorted.sam\n",
    "done"
   ]
  },
  {
   "cell_type": "markdown",
   "metadata": {},
   "source": [
    "Crea un archivo *.txt con la salida mostrando el identificador y el read que identifico en el genoma referencia."
   ]
  },
  {
   "cell_type": "code",
   "execution_count": 51,
   "metadata": {},
   "outputs": [],
   "source": [
    "%%bash\n",
    "for infile in output-tda/prueba1Kread/bam/*.bam\n",
    "do \n",
    "\tbase=$(basename ${infile} .bam)\n",
    "\tsamtools sort ${infile} -o output-tda/prueba1Kread/sorted/${base}_sorted.bam\n",
    "\tsamtools view ${infile} > output-tda/prueba1Kread/bam/${base}.txt\n",
    "done"
   ]
  },
  {
   "cell_type": "code",
   "execution_count": null,
   "metadata": {},
   "outputs": [],
   "source": []
  },
  {
   "cell_type": "markdown",
   "metadata": {},
   "source": [
    "Obtener las columnas que nos interesan de los archivos .sam"
   ]
  },
  {
   "cell_type": "code",
   "execution_count": 52,
   "metadata": {},
   "outputs": [],
   "source": [
    "%%bash\n",
    "cd ~/GIT/clavibacter/scripts-tda/\n",
    "ls output-tda/prueba1Kread/bam/*.txt | while read line\n",
    "do\n",
    "    base=$(basename ${line} .txt)\n",
    "    cut -f 1-6 $line > output-tda/prueba1Kread/tablas/${base}_extrac.txt\n",
    "done"
   ]
  },
  {
   "cell_type": "markdown",
   "metadata": {},
   "source": [
    "\n",
    "Importar tablas de mapeos\n"
   ]
  },
  {
   "cell_type": "code",
   "execution_count": 3,
   "metadata": {},
   "outputs": [
    {
     "data": {
      "text/html": [
       "<div>\n",
       "<style scoped>\n",
       "    .dataframe tbody tr th:only-of-type {\n",
       "        vertical-align: middle;\n",
       "    }\n",
       "\n",
       "    .dataframe tbody tr th {\n",
       "        vertical-align: top;\n",
       "    }\n",
       "\n",
       "    .dataframe thead th {\n",
       "        text-align: right;\n",
       "    }\n",
       "</style>\n",
       "<table border=\"1\" class=\"dataframe\">\n",
       "  <thead>\n",
       "    <tr style=\"text-align: right;\">\n",
       "      <th></th>\n",
       "      <th>Qname</th>\n",
       "      <th>Flag</th>\n",
       "      <th>Rname</th>\n",
       "      <th>Pos</th>\n",
       "      <th>MapQ</th>\n",
       "      <th>CIGAR</th>\n",
       "      <th>Organims</th>\n",
       "    </tr>\n",
       "  </thead>\n",
       "  <tbody>\n",
       "    <tr>\n",
       "      <th>0</th>\n",
       "      <td>NC_009478.1_0</td>\n",
       "      <td>0</td>\n",
       "      <td>NZ_CP048047.1</td>\n",
       "      <td>578115</td>\n",
       "      <td>42</td>\n",
       "      <td>150M</td>\n",
       "      <td>capsici_1106</td>\n",
       "    </tr>\n",
       "    <tr>\n",
       "      <th>1</th>\n",
       "      <td>NC_009480.1_1</td>\n",
       "      <td>16</td>\n",
       "      <td>NZ_CP048048.1</td>\n",
       "      <td>133457</td>\n",
       "      <td>42</td>\n",
       "      <td>150M</td>\n",
       "      <td>capsici_1106</td>\n",
       "    </tr>\n",
       "    <tr>\n",
       "      <th>2</th>\n",
       "      <td>NC_009478.1_1</td>\n",
       "      <td>0</td>\n",
       "      <td>NZ_CP048048.1</td>\n",
       "      <td>16945</td>\n",
       "      <td>38</td>\n",
       "      <td>150M</td>\n",
       "      <td>capsici_1106</td>\n",
       "    </tr>\n",
       "    <tr>\n",
       "      <th>3</th>\n",
       "      <td>NC_009479.1_1</td>\n",
       "      <td>16</td>\n",
       "      <td>NZ_CP048048.1</td>\n",
       "      <td>42991</td>\n",
       "      <td>42</td>\n",
       "      <td>150M</td>\n",
       "      <td>capsici_1106</td>\n",
       "    </tr>\n",
       "    <tr>\n",
       "      <th>4</th>\n",
       "      <td>NZ_CP048047.1_1</td>\n",
       "      <td>0</td>\n",
       "      <td>NZ_CP048047.1</td>\n",
       "      <td>27280</td>\n",
       "      <td>42</td>\n",
       "      <td>150M</td>\n",
       "      <td>capsici_1106</td>\n",
       "    </tr>\n",
       "    <tr>\n",
       "      <th>...</th>\n",
       "      <td>...</td>\n",
       "      <td>...</td>\n",
       "      <td>...</td>\n",
       "      <td>...</td>\n",
       "      <td>...</td>\n",
       "      <td>...</td>\n",
       "      <td>...</td>\n",
       "    </tr>\n",
       "    <tr>\n",
       "      <th>4397</th>\n",
       "      <td>NC_009478.1_993</td>\n",
       "      <td>0</td>\n",
       "      <td>NC_009479.1</td>\n",
       "      <td>12053</td>\n",
       "      <td>42</td>\n",
       "      <td>150M</td>\n",
       "      <td>michi_contigs</td>\n",
       "    </tr>\n",
       "    <tr>\n",
       "      <th>4398</th>\n",
       "      <td>NC_009479.1_993</td>\n",
       "      <td>0</td>\n",
       "      <td>NC_009479.1</td>\n",
       "      <td>1952</td>\n",
       "      <td>0</td>\n",
       "      <td>122M1D28M</td>\n",
       "      <td>michi_contigs</td>\n",
       "    </tr>\n",
       "    <tr>\n",
       "      <th>4399</th>\n",
       "      <td>NZ_CP048049.1_993</td>\n",
       "      <td>0</td>\n",
       "      <td>NC_009480.1</td>\n",
       "      <td>2365649</td>\n",
       "      <td>3</td>\n",
       "      <td>150M</td>\n",
       "      <td>michi_contigs</td>\n",
       "    </tr>\n",
       "    <tr>\n",
       "      <th>4400</th>\n",
       "      <td>NC_009480.1_994</td>\n",
       "      <td>0</td>\n",
       "      <td>NC_009480.1</td>\n",
       "      <td>81133</td>\n",
       "      <td>42</td>\n",
       "      <td>150M</td>\n",
       "      <td>michi_contigs</td>\n",
       "    </tr>\n",
       "    <tr>\n",
       "      <th>4401</th>\n",
       "      <td>NC_009478.1_994</td>\n",
       "      <td>0</td>\n",
       "      <td>NC_009480.1</td>\n",
       "      <td>1549686</td>\n",
       "      <td>8</td>\n",
       "      <td>150M</td>\n",
       "      <td>michi_contigs</td>\n",
       "    </tr>\n",
       "  </tbody>\n",
       "</table>\n",
       "<p>13942 rows × 7 columns</p>\n",
       "</div>"
      ],
      "text/plain": [
       "                  Qname  Flag          Rname      Pos  MapQ      CIGAR  \\\n",
       "0         NC_009478.1_0     0  NZ_CP048047.1   578115    42       150M   \n",
       "1         NC_009480.1_1    16  NZ_CP048048.1   133457    42       150M   \n",
       "2         NC_009478.1_1     0  NZ_CP048048.1    16945    38       150M   \n",
       "3         NC_009479.1_1    16  NZ_CP048048.1    42991    42       150M   \n",
       "4       NZ_CP048047.1_1     0  NZ_CP048047.1    27280    42       150M   \n",
       "...                 ...   ...            ...      ...   ...        ...   \n",
       "4397    NC_009478.1_993     0    NC_009479.1    12053    42       150M   \n",
       "4398    NC_009479.1_993     0    NC_009479.1     1952     0  122M1D28M   \n",
       "4399  NZ_CP048049.1_993     0    NC_009480.1  2365649     3       150M   \n",
       "4400    NC_009480.1_994     0    NC_009480.1    81133    42       150M   \n",
       "4401    NC_009478.1_994     0    NC_009480.1  1549686     8       150M   \n",
       "\n",
       "           Organims  \n",
       "0      capsici_1106  \n",
       "1      capsici_1106  \n",
       "2      capsici_1106  \n",
       "3      capsici_1106  \n",
       "4      capsici_1106  \n",
       "...             ...  \n",
       "4397  michi_contigs  \n",
       "4398  michi_contigs  \n",
       "4399  michi_contigs  \n",
       "4400  michi_contigs  \n",
       "4401  michi_contigs  \n",
       "\n",
       "[13942 rows x 7 columns]"
      ]
     },
     "execution_count": 3,
     "metadata": {},
     "output_type": "execute_result"
    }
   ],
   "source": [
    "ruta_tablas = '/home/shaday/GIT/clavibacter/scripts-tda/output-tda/prueba1Kread/tablas/'\n",
    "contenido = os.listdir(ruta_tablas)\n",
    "genomes = []\n",
    "df=[]\n",
    "for i in contenido:\n",
    "    dftt = pd.read_csv(ruta_tablas + i, sep='\\t', header=None) #importar las tablas para cada genoma\n",
    "    dftt['Organims']=i[16:-11] #agregar el nombre del organismo\n",
    "    df.append(dftt) #agregar al dataframe\n",
    "    genomes.append(i[16:-11])\n",
    "    \n",
    "df=pd.concat(df)\n",
    "df.columns= ['Qname','Flag', 'Rname', 'Pos','MapQ','CIGAR','Organims'] #cambiar nombre a las columnas del dataframe\n",
    "df "
   ]
  },
  {
   "cell_type": "code",
   "execution_count": 25,
   "metadata": {},
   "outputs": [],
   "source": [
    "df.to_csv('MapeoReads-organismos28K.csv')"
   ]
  },
  {
   "cell_type": "markdown",
   "metadata": {},
   "source": [
    "Creamos un diccionario para los organimos, y remplazamos en el dataframe\n"
   ]
  },
  {
   "cell_type": "code",
   "execution_count": 4,
   "metadata": {},
   "outputs": [
    {
     "data": {
      "text/html": [
       "<div>\n",
       "<style scoped>\n",
       "    .dataframe tbody tr th:only-of-type {\n",
       "        vertical-align: middle;\n",
       "    }\n",
       "\n",
       "    .dataframe tbody tr th {\n",
       "        vertical-align: top;\n",
       "    }\n",
       "\n",
       "    .dataframe thead th {\n",
       "        text-align: right;\n",
       "    }\n",
       "</style>\n",
       "<table border=\"1\" class=\"dataframe\">\n",
       "  <thead>\n",
       "    <tr style=\"text-align: right;\">\n",
       "      <th></th>\n",
       "      <th>Qname</th>\n",
       "      <th>Flag</th>\n",
       "      <th>Rname</th>\n",
       "      <th>Pos</th>\n",
       "      <th>MapQ</th>\n",
       "      <th>CIGAR</th>\n",
       "      <th>Organims</th>\n",
       "    </tr>\n",
       "  </thead>\n",
       "  <tbody>\n",
       "    <tr>\n",
       "      <th>0</th>\n",
       "      <td>NC_009478.1_0</td>\n",
       "      <td>0</td>\n",
       "      <td>NZ_CP048047.1</td>\n",
       "      <td>578115</td>\n",
       "      <td>42</td>\n",
       "      <td>150M</td>\n",
       "      <td>X1</td>\n",
       "    </tr>\n",
       "    <tr>\n",
       "      <th>1</th>\n",
       "      <td>NC_009480.1_1</td>\n",
       "      <td>16</td>\n",
       "      <td>NZ_CP048048.1</td>\n",
       "      <td>133457</td>\n",
       "      <td>42</td>\n",
       "      <td>150M</td>\n",
       "      <td>X1</td>\n",
       "    </tr>\n",
       "    <tr>\n",
       "      <th>2</th>\n",
       "      <td>NC_009478.1_1</td>\n",
       "      <td>0</td>\n",
       "      <td>NZ_CP048048.1</td>\n",
       "      <td>16945</td>\n",
       "      <td>38</td>\n",
       "      <td>150M</td>\n",
       "      <td>X1</td>\n",
       "    </tr>\n",
       "    <tr>\n",
       "      <th>3</th>\n",
       "      <td>NC_009479.1_1</td>\n",
       "      <td>16</td>\n",
       "      <td>NZ_CP048048.1</td>\n",
       "      <td>42991</td>\n",
       "      <td>42</td>\n",
       "      <td>150M</td>\n",
       "      <td>X1</td>\n",
       "    </tr>\n",
       "    <tr>\n",
       "      <th>4</th>\n",
       "      <td>NZ_CP048047.1_1</td>\n",
       "      <td>0</td>\n",
       "      <td>NZ_CP048047.1</td>\n",
       "      <td>27280</td>\n",
       "      <td>42</td>\n",
       "      <td>150M</td>\n",
       "      <td>X1</td>\n",
       "    </tr>\n",
       "    <tr>\n",
       "      <th>...</th>\n",
       "      <td>...</td>\n",
       "      <td>...</td>\n",
       "      <td>...</td>\n",
       "      <td>...</td>\n",
       "      <td>...</td>\n",
       "      <td>...</td>\n",
       "      <td>...</td>\n",
       "    </tr>\n",
       "    <tr>\n",
       "      <th>4397</th>\n",
       "      <td>NC_009478.1_993</td>\n",
       "      <td>0</td>\n",
       "      <td>NC_009479.1</td>\n",
       "      <td>12053</td>\n",
       "      <td>42</td>\n",
       "      <td>150M</td>\n",
       "      <td>X3</td>\n",
       "    </tr>\n",
       "    <tr>\n",
       "      <th>4398</th>\n",
       "      <td>NC_009479.1_993</td>\n",
       "      <td>0</td>\n",
       "      <td>NC_009479.1</td>\n",
       "      <td>1952</td>\n",
       "      <td>0</td>\n",
       "      <td>122M1D28M</td>\n",
       "      <td>X3</td>\n",
       "    </tr>\n",
       "    <tr>\n",
       "      <th>4399</th>\n",
       "      <td>NZ_CP048049.1_993</td>\n",
       "      <td>0</td>\n",
       "      <td>NC_009480.1</td>\n",
       "      <td>2365649</td>\n",
       "      <td>3</td>\n",
       "      <td>150M</td>\n",
       "      <td>X3</td>\n",
       "    </tr>\n",
       "    <tr>\n",
       "      <th>4400</th>\n",
       "      <td>NC_009480.1_994</td>\n",
       "      <td>0</td>\n",
       "      <td>NC_009480.1</td>\n",
       "      <td>81133</td>\n",
       "      <td>42</td>\n",
       "      <td>150M</td>\n",
       "      <td>X3</td>\n",
       "    </tr>\n",
       "    <tr>\n",
       "      <th>4401</th>\n",
       "      <td>NC_009478.1_994</td>\n",
       "      <td>0</td>\n",
       "      <td>NC_009480.1</td>\n",
       "      <td>1549686</td>\n",
       "      <td>8</td>\n",
       "      <td>150M</td>\n",
       "      <td>X3</td>\n",
       "    </tr>\n",
       "  </tbody>\n",
       "</table>\n",
       "<p>13942 rows × 7 columns</p>\n",
       "</div>"
      ],
      "text/plain": [
       "                  Qname  Flag          Rname      Pos  MapQ      CIGAR  \\\n",
       "0         NC_009478.1_0     0  NZ_CP048047.1   578115    42       150M   \n",
       "1         NC_009480.1_1    16  NZ_CP048048.1   133457    42       150M   \n",
       "2         NC_009478.1_1     0  NZ_CP048048.1    16945    38       150M   \n",
       "3         NC_009479.1_1    16  NZ_CP048048.1    42991    42       150M   \n",
       "4       NZ_CP048047.1_1     0  NZ_CP048047.1    27280    42       150M   \n",
       "...                 ...   ...            ...      ...   ...        ...   \n",
       "4397    NC_009478.1_993     0    NC_009479.1    12053    42       150M   \n",
       "4398    NC_009479.1_993     0    NC_009479.1     1952     0  122M1D28M   \n",
       "4399  NZ_CP048049.1_993     0    NC_009480.1  2365649     3       150M   \n",
       "4400    NC_009480.1_994     0    NC_009480.1    81133    42       150M   \n",
       "4401    NC_009478.1_994     0    NC_009480.1  1549686     8       150M   \n",
       "\n",
       "     Organims  \n",
       "0          X1  \n",
       "1          X1  \n",
       "2          X1  \n",
       "3          X1  \n",
       "4          X1  \n",
       "...       ...  \n",
       "4397       X3  \n",
       "4398       X3  \n",
       "4399       X3  \n",
       "4400       X3  \n",
       "4401       X3  \n",
       "\n",
       "[13942 rows x 7 columns]"
      ]
     },
     "execution_count": 4,
     "metadata": {},
     "output_type": "execute_result"
    }
   ],
   "source": [
    "X=df['Organims'].unique().tolist()\n",
    "len(X)\n",
    "dic_Organisms={}\n",
    "for k in range(len(X)):\n",
    "    dic_Organisms[X[k]]=\"X{0}\".format(k+1)\n",
    "dic_Organisms\n",
    "df2=df.replace({\"Organims\": dic_Organisms}) \n",
    "\n",
    "X2=df2['Organims'].unique().tolist() #lista de genomas \n",
    "A=powerset(X2) #conjunto potencia\n",
    "A=A[1:] #eliminiamos el conjunto vacio\n",
    "df2"
   ]
  },
  {
   "cell_type": "code",
   "execution_count": 5,
   "metadata": {},
   "outputs": [],
   "source": [
    "B=list(A)"
   ]
  },
  {
   "cell_type": "code",
   "execution_count": 18,
   "metadata": {},
   "outputs": [],
   "source": [
    "df2.to_csv('MapeoReads-organismos28K2.csv')"
   ]
  },
  {
   "cell_type": "code",
   "execution_count": 90,
   "metadata": {},
   "outputs": [
    {
     "data": {
      "text/plain": [
       "['capsici_1106', 'capsici_1101', 'michi_contigs']"
      ]
     },
     "execution_count": 90,
     "metadata": {},
     "output_type": "execute_result"
    }
   ],
   "source": [
    "X"
   ]
  },
  {
   "cell_type": "markdown",
   "metadata": {},
   "source": [
    "Vamos a crear un diccionario `dic` que contenga los reads y los organismos a los cuales son mapeados"
   ]
  },
  {
   "cell_type": "code",
   "execution_count": 6,
   "metadata": {},
   "outputs": [],
   "source": [
    "dic={}\n",
    "l=0\n",
    "Reads=df2['Qname'].unique().tolist()\n",
    "for k in Reads:\n",
    "    valores=list(df2.loc[df2.Qname==k].iloc[:,6])\n",
    "    dic[k]=valores\n"
   ]
  },
  {
   "cell_type": "code",
   "execution_count": null,
   "metadata": {},
   "outputs": [],
   "source": []
  },
  {
   "cell_type": "markdown",
   "metadata": {},
   "source": [
    "La función ´Sy´ calcula los reads que son mapeados solamente a $Y\\in2^X$.\n"
   ]
  },
  {
   "cell_type": "code",
   "execution_count": 7,
   "metadata": {},
   "outputs": [],
   "source": [
    "def Sy(dic,X):\n",
    "    dict_items=dic.items()\n",
    "    i=1\n",
    "    for k in X:\n",
    "        myValue=k\n",
    "        globals()[\"Y{}\".format(i)] =[key for key,value in dict_items if value==myValue]\n",
    "        mykey=[key for key,value in dict_items if value==myValue]\n",
    "        i+=1\n",
    "    return Y1,Y2,Y3,Y4,Y5,Y6,Y7\n",
    "    \n",
    "    "
   ]
  },
  {
   "cell_type": "code",
   "execution_count": 9,
   "metadata": {},
   "outputs": [
    {
     "data": {
      "text/plain": [
       "7"
      ]
     },
     "execution_count": 9,
     "metadata": {},
     "output_type": "execute_result"
    }
   ],
   "source": [
    "len(A)"
   ]
  },
  {
   "cell_type": "code",
   "execution_count": 8,
   "metadata": {},
   "outputs": [],
   "source": [
    "# Calculamos SY para cada Y en 2**X\n",
    "SY=[]\n",
    "SY= Sy(dic,A)\n",
    "\n"
   ]
  },
  {
   "cell_type": "code",
   "execution_count": 8,
   "metadata": {},
   "outputs": [],
   "source": [
    "#Exportamos Sy a txt\n",
    "for k in range(len(SY)):\n",
    "    with open('output-tda/prueba1Kread/SyReads/Sy{0}.txt'.format(k), 'w') as f:\n",
    "        for line in SY[k]:\n",
    "            f.write(f\"{line}\\n\")"
   ]
  },
  {
   "cell_type": "code",
   "execution_count": 14,
   "metadata": {},
   "outputs": [],
   "source": [
    "%%bash\n",
    "for infile in output-tda/prueba1Kread/sorted/*.sam\n",
    "do \n",
    "\tbase=$(basename ${infile} .sam)\n",
    "    head -4 ${infile} > output-tda/prueba1Kread/sam_extract/${base}-S_y2.bam  #get the head the .sam file's\n",
    "\tsamtools view ${infile} | grep -f output-tda/prueba1Kread/SyReads/S_y2.txt >> output-tda/prueba1Kread/sam_extract/${base}-S_y2.bam # append the read selected \n",
    "    done"
   ]
  },
  {
   "cell_type": "markdown",
   "metadata": {},
   "source": [
    "Vamos a extrar de los archivos *.sam* los read que mapean a $Y$, $ \\forall Y \\in 2^X $. Utilizamos el script  02-extract-reads-for-SY.sh ( sigue a continuacion), dando un archivo txt con los read el identificador de los read que estan en $Y$, extrae dichos reads del archivo *.sam* para cada genoma de refencia."
   ]
  },
  {
   "cell_type": "code",
   "execution_count": 33,
   "metadata": {},
   "outputs": [
    {
     "name": "stdout",
     "output_type": "stream",
     "text": [
      "file=$1\n",
      "#This script will run over all SY to extraxct all reads from *sam file's\n",
      "base2=$(basename ${file} .txt)\n",
      "for infile in output-tda/prueba1Kread/sorted/*.sam\n",
      "do \n",
      "\tbase=$(basename ${infile} .sam)\n",
      "\thead -4 ${infile} > output-tda/prueba1Kread/sam_extract/${base}-${base2}.bam  #get the head the .sam file's\n",
      "\tsamtools view ${infile} | grep -f ${file} >> output-tda/prueba1Kread/sam_extract/${base}-${base2}.bam # append the read selected \n",
      "\tdone\n"
     ]
    }
   ],
   "source": [
    "cat 02-extract-reads-for-SY.sh\n"
   ]
  },
  {
   "cell_type": "code",
   "execution_count": 74,
   "metadata": {},
   "outputs": [],
   "source": [
    "%%bash \n",
    "for line in output-tda/prueba1Kread/SyReads/*.txt \n",
    "do\n",
    "    bash 02-extract-reads-for-SY.sh $line\n",
    "done"
   ]
  },
  {
   "cell_type": "markdown",
   "metadata": {},
   "source": [
    "Procedemos a calcular las profuncidades con `samtools depth`.\n"
   ]
  },
  {
   "cell_type": "code",
   "execution_count": 75,
   "metadata": {},
   "outputs": [],
   "source": [
    "%%bash \n",
    "for line in output-tda/prueba1Kread/sam_extract/*.bam\n",
    "do\n",
    "    base=$(basename ${line} .bam)\n",
    "    samtools depth ${line} > output-tda/prueba1Kread/depth/${base}.txt\n",
    "done"
   ]
  },
  {
   "cell_type": "code",
   "execution_count": 76,
   "metadata": {},
   "outputs": [
    {
     "data": {
      "text/plain": [
       "[['X1'],\n",
       " ['X2'],\n",
       " ['X1', 'X2'],\n",
       " ['X3'],\n",
       " ['X1', 'X3'],\n",
       " ['X2', 'X3'],\n",
       " ['X1', 'X2', 'X3']]"
      ]
     },
     "execution_count": 76,
     "metadata": {},
     "output_type": "execute_result"
    }
   ],
   "source": [
    "A"
   ]
  },
  {
   "cell_type": "code",
   "execution_count": 9,
   "metadata": {},
   "outputs": [
    {
     "ename": "TypeError",
     "evalue": "unhashable type: 'list'",
     "output_type": "error",
     "traceback": [
      "\u001b[0;31m---------------------------------------------------------------------------\u001b[0m",
      "\u001b[0;31mTypeError\u001b[0m                                 Traceback (most recent call last)",
      "\u001b[0;32m<ipython-input-9-2fdc8c6401c7>\u001b[0m in \u001b[0;36m<module>\u001b[0;34m\u001b[0m\n\u001b[1;32m      1\u001b[0m \u001b[0mdic_PX\u001b[0m\u001b[0;34m=\u001b[0m\u001b[0;34m{\u001b[0m\u001b[0;34m}\u001b[0m\u001b[0;34m\u001b[0m\u001b[0;34m\u001b[0m\u001b[0m\n\u001b[1;32m      2\u001b[0m \u001b[0;32mfor\u001b[0m \u001b[0mk\u001b[0m \u001b[0;32min\u001b[0m \u001b[0mrange\u001b[0m\u001b[0;34m(\u001b[0m\u001b[0mlen\u001b[0m\u001b[0;34m(\u001b[0m\u001b[0mB\u001b[0m\u001b[0;34m)\u001b[0m\u001b[0;34m)\u001b[0m\u001b[0;34m:\u001b[0m\u001b[0;34m\u001b[0m\u001b[0;34m\u001b[0m\u001b[0m\n\u001b[0;32m----> 3\u001b[0;31m     \u001b[0mdic_PX\u001b[0m\u001b[0;34m[\u001b[0m\u001b[0mB\u001b[0m\u001b[0;34m[\u001b[0m\u001b[0mk\u001b[0m\u001b[0;34m]\u001b[0m\u001b[0;34m]\u001b[0m\u001b[0;34m=\u001b[0m\u001b[0;34m\"Y{0}\"\u001b[0m\u001b[0;34m.\u001b[0m\u001b[0mformat\u001b[0m\u001b[0;34m(\u001b[0m\u001b[0mk\u001b[0m\u001b[0;34m)\u001b[0m\u001b[0;34m\u001b[0m\u001b[0;34m\u001b[0m\u001b[0m\n\u001b[0m\u001b[1;32m      4\u001b[0m \u001b[0mdic_PX\u001b[0m\u001b[0;34m\u001b[0m\u001b[0;34m\u001b[0m\u001b[0m\n",
      "\u001b[0;31mTypeError\u001b[0m: unhashable type: 'list'"
     ]
    }
   ],
   "source": [
    "dic_PX={}\n",
    "for k in range(len(B)):\n",
    "    dic_PX[B[k]]=\"Y{0}\".format(k)\n",
    "dic_PX"
   ]
  },
  {
   "cell_type": "code",
   "execution_count": 31,
   "metadata": {},
   "outputs": [
    {
     "data": {
      "text/plain": [
       "[['X1'],\n",
       " ['X2'],\n",
       " ['X1', 'X2'],\n",
       " ['X3'],\n",
       " ['X1', 'X3'],\n",
       " ['X2', 'X3'],\n",
       " ['X1', 'X2', 'X3']]"
      ]
     },
     "execution_count": 31,
     "metadata": {},
     "output_type": "execute_result"
    }
   ],
   "source": [
    "A"
   ]
  },
  {
   "cell_type": "code",
   "execution_count": 10,
   "metadata": {},
   "outputs": [
    {
     "data": {
      "text/plain": [
       "['Sy1-Simulados-subsp_capsici_1106_sorted.txt',\n",
       " 'Sy3-Simulados-subsp_capsici_1101_sorted.txt',\n",
       " 'Sy4-Simulados-subsp_michi_contigs_sorted.txt',\n",
       " 'Sy6-Simulados-subsp_michi_contigs_sorted.txt',\n",
       " 'Sy1-Simulados-subsp_capsici_1101_sorted.txt',\n",
       " 'Sy0-Simulados-subsp_michi_contigs_sorted.txt',\n",
       " 'Sy6-Simulados-subsp_capsici_1101_sorted.txt',\n",
       " 'Sy3-Simulados-subsp_capsici_1106_sorted.txt',\n",
       " 'Sy2-Simulados-subsp_michi_contigs_sorted.txt',\n",
       " '.bam.txt',\n",
       " 'Sy1-Simulados-subsp_michi_contigs_sorted.txt',\n",
       " 'Sy2-Simulados-subsp_capsici_1106_sorted.txt',\n",
       " 'Sy5-Simulados-subsp_capsici_1106_sorted.txt',\n",
       " 'Sy0-Simulados-subsp_capsici_1106_sorted.txt',\n",
       " 'Sy4-Simulados-subsp_capsici_1106_sorted.txt',\n",
       " 'Sy5-Simulados-subsp_capsici_1101_sorted.txt',\n",
       " 'Sy2-Simulados-subsp_capsici_1101_sorted.txt',\n",
       " 'Sy4-Simulados-subsp_capsici_1101_sorted.txt',\n",
       " 'Sy3-Simulados-subsp_michi_contigs_sorted.txt',\n",
       " 'Sy5-Simulados-subsp_michi_contigs_sorted.txt',\n",
       " 'Sy0-Simulados-subsp_capsici_1101_sorted.txt',\n",
       " 'Sy6-Simulados-subsp_capsici_1106_sorted.txt']"
      ]
     },
     "execution_count": 10,
     "metadata": {},
     "output_type": "execute_result"
    }
   ],
   "source": [
    "\n",
    "ruta_depth = '/home/shaday/GIT/clavibacter/scripts-tda/output-tda/prueba1Kread/depth/'\n",
    "contenido_depth = os.listdir(ruta_depth)\n",
    "contenido_depth\n",
    "#d1 = pd.read_csv(ruta_depth + 'Sy1-Simulados-subsp_capsici_1101_sorted.txt', sep='\\t', header=None) #importar las tablas para cada genoma\n",
    "#d2 = pd.read_csv(ruta_depth + 'Sy1-Simulados-subsp_capsici_1106_sorted.txt', sep='\\t', header=None)\n",
    "#d3 = pd.read_csv(ruta_depth + 'Sy1-Simulados-subsp_michi_contigs_sorted.txt', sep='\\t', header=None) \n",
    "#a1=d1[2].sum()\n",
    "#a2=d1[2].sum()\n",
    "#a3=d1[2].sum()\n",
    "#ay=a1+a2+a3\n",
    "#l1=len(d1)\n",
    "#l2=len(d2)\n",
    "#l3=len(d3)\n",
    "#m=1\n",
    "#dyx1=ay/(l1)*1/m\n",
    "#dyx2=ay/(l2)*1/m\n",
    "#dyx3=ay/(l3)*1/m"
   ]
  },
  {
   "cell_type": "markdown",
   "metadata": {},
   "source": [
    "La funcion `depth_Y` calcula las profundiades  de $Y$ en cada organismo $X_i$"
   ]
  },
  {
   "cell_type": "code",
   "execution_count": 29,
   "metadata": {},
   "outputs": [],
   "source": [
    "def depth_Y(conjunto,A):\n",
    "    d1 = pd.read_csv(ruta_depth + conjunto+ '-Simulados-subsp_capsici_1101_sorted.txt', sep='\\t', header=None) #importar las tablas para cada genoma\n",
    "    d2 = pd.read_csv(ruta_depth + conjunto+ '-Simulados-subsp_capsici_1106_sorted.txt', sep='\\t', header=None)\n",
    "    d3 = pd.read_csv(ruta_depth + conjunto+ '-Simulados-subsp_michi_contigs_sorted.txt', sep='\\t', header=None) \n",
    "    a1=d1[2].sum()\n",
    "    a2=d1[2].sum()\n",
    "    a3=d1[2].sum()\n",
    "    ay=(a1+a2+a3)/3\n",
    "    l1=len(d1)\n",
    "    l2=len(d2)\n",
    "    l3=len(d3)\n",
    "    m=len(A)\n",
    "    dyx1=ay/(l1)*1/m**2\n",
    "    dyx2=ay/(l2)*1/m**2\n",
    "    dyx3=ay/(l3)*1/m**2\n",
    "    return dyx1,dyx2,dyx3\n"
   ]
  },
  {
   "cell_type": "code",
   "execution_count": 28,
   "metadata": {},
   "outputs": [
    {
     "data": {
      "text/plain": [
       "(0.3042449169641471,\n",
       " 0.3024077134986226,\n",
       " 0.2695157976610898,\n",
       " 274435,\n",
       " 274435,\n",
       " 274435)"
      ]
     },
     "execution_count": 28,
     "metadata": {},
     "output_type": "execute_result"
    }
   ],
   "source": [
    "depth_Y('Sy2',A[2])"
   ]
  },
  {
   "cell_type": "markdown",
   "metadata": {},
   "source": [
    "Calculamos $d_{Y}(X_i)$ para cada $X_i \\in X$ y cada $Y\\in 2^X$"
   ]
  },
  {
   "cell_type": "code",
   "execution_count": 30,
   "metadata": {},
   "outputs": [],
   "source": [
    "dep=[]\n",
    "for i in range(len(A)):\n",
    "    globals()[\"Dep_Y{}\".format(i)]=depth_Y('Sy{0}'.format(i),A[i])\n",
    "    dep.append(depth_Y('Sy{0}'.format(i),A[i]))\n"
   ]
  },
  {
   "cell_type": "code",
   "execution_count": 31,
   "metadata": {},
   "outputs": [],
   "source": [
    "dp = pd.DataFrame(dep,columns=dic_Organisms.values())\n",
    "dp['Y']=A\n",
    "dp.to_csv('Depth28K.csv')"
   ]
  },
  {
   "cell_type": "code",
   "execution_count": 32,
   "metadata": {},
   "outputs": [
    {
     "data": {
      "text/html": [
       "<div>\n",
       "<style scoped>\n",
       "    .dataframe tbody tr th:only-of-type {\n",
       "        vertical-align: middle;\n",
       "    }\n",
       "\n",
       "    .dataframe tbody tr th {\n",
       "        vertical-align: top;\n",
       "    }\n",
       "\n",
       "    .dataframe thead th {\n",
       "        text-align: right;\n",
       "    }\n",
       "</style>\n",
       "<table border=\"1\" class=\"dataframe\">\n",
       "  <thead>\n",
       "    <tr style=\"text-align: right;\">\n",
       "      <th></th>\n",
       "      <th>X1</th>\n",
       "      <th>X2</th>\n",
       "      <th>X3</th>\n",
       "      <th>Y</th>\n",
       "    </tr>\n",
       "  </thead>\n",
       "  <tbody>\n",
       "    <tr>\n",
       "      <th>0</th>\n",
       "      <td>1.125988</td>\n",
       "      <td>2.026912</td>\n",
       "      <td>3.533898</td>\n",
       "      <td>[X1]</td>\n",
       "    </tr>\n",
       "    <tr>\n",
       "      <th>1</th>\n",
       "      <td>1.484015</td>\n",
       "      <td>1.487425</td>\n",
       "      <td>2.115324</td>\n",
       "      <td>[X2]</td>\n",
       "    </tr>\n",
       "    <tr>\n",
       "      <th>2</th>\n",
       "      <td>0.304245</td>\n",
       "      <td>0.302408</td>\n",
       "      <td>0.269516</td>\n",
       "      <td>[X1, X2]</td>\n",
       "    </tr>\n",
       "    <tr>\n",
       "      <th>3</th>\n",
       "      <td>1.028524</td>\n",
       "      <td>0.776666</td>\n",
       "      <td>0.819433</td>\n",
       "      <td>[X3]</td>\n",
       "    </tr>\n",
       "    <tr>\n",
       "      <th>4</th>\n",
       "      <td>0.255431</td>\n",
       "      <td>0.406582</td>\n",
       "      <td>0.300082</td>\n",
       "      <td>[X1, X3]</td>\n",
       "    </tr>\n",
       "    <tr>\n",
       "      <th>5</th>\n",
       "      <td>0.327746</td>\n",
       "      <td>0.328228</td>\n",
       "      <td>0.363356</td>\n",
       "      <td>[X2, X3]</td>\n",
       "    </tr>\n",
       "    <tr>\n",
       "      <th>6</th>\n",
       "      <td>0.145665</td>\n",
       "      <td>0.145879</td>\n",
       "      <td>0.161491</td>\n",
       "      <td>[X1, X2, X3]</td>\n",
       "    </tr>\n",
       "  </tbody>\n",
       "</table>\n",
       "</div>"
      ],
      "text/plain": [
       "         X1        X2        X3             Y\n",
       "0  1.125988  2.026912  3.533898          [X1]\n",
       "1  1.484015  1.487425  2.115324          [X2]\n",
       "2  0.304245  0.302408  0.269516      [X1, X2]\n",
       "3  1.028524  0.776666  0.819433          [X3]\n",
       "4  0.255431  0.406582  0.300082      [X1, X3]\n",
       "5  0.327746  0.328228  0.363356      [X2, X3]\n",
       "6  0.145665  0.145879  0.161491  [X1, X2, X3]"
      ]
     },
     "execution_count": 32,
     "metadata": {},
     "output_type": "execute_result"
    }
   ],
   "source": [
    "dp"
   ]
  },
  {
   "cell_type": "code",
   "execution_count": null,
   "metadata": {},
   "outputs": [],
   "source": []
  }
 ],
 "metadata": {
  "kernelspec": {
   "display_name": "Python 3",
   "language": "python",
   "name": "python3"
  },
  "language_info": {
   "codemirror_mode": {
    "name": "ipython",
    "version": 3
   },
   "file_extension": ".py",
   "mimetype": "text/x-python",
   "name": "python",
   "nbconvert_exporter": "python",
   "pygments_lexer": "ipython3",
   "version": "3.8.8"
  }
 },
 "nbformat": 4,
 "nbformat_minor": 4
}
