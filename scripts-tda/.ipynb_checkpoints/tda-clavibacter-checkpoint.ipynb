{
 "cells": [
  {
   "cell_type": "code",
   "execution_count": null,
   "metadata": {},
   "outputs": [],
   "source": []
  },
  {
   "cell_type": "markdown",
   "metadata": {},
   "source": [
    "Vamos a mapear los reads verdaderos de maiz a los genomas de la base de datos interna de referencia de _Clavibacter_ (BDIRC) \n",
    "0. Crear link simbolicos\n",
    "1. Indexar los genomas de BDIRC con bowtie\n",
    "2. Mapear con bowtie a esos genomas\n",
    "3. Si queremos visualizar los reads podemos usar tablet, y necesitamos samtools para indexar el genoma y ver los reads alineados.\n",
    "https://www.metagenomics.wiki/tools/bowtie2"
   ]
  },
  {
   "cell_type": "code",
   "execution_count": 1,
   "metadata": {},
   "outputs": [
    {
     "name": "stderr",
     "output_type": "stream",
     "text": [
      "\n",
      "CommandNotFoundError: Your shell has not been properly configured to use 'conda activate'.\n",
      "If your shell is Bash or a Bourne variant, enable conda for the current user with\n",
      "\n",
      "    $ echo \". /home/betterlab/anaconda3/etc/profile.d/conda.sh\" >> ~/.bashrc\n",
      "\n",
      "or, for all users, enable conda with\n",
      "\n",
      "    $ sudo ln -s /home/betterlab/anaconda3/etc/profile.d/conda.sh /etc/profile.d/conda.sh\n",
      "\n",
      "The options above will permanently enable the 'conda' command, but they do NOT\n",
      "put conda's base (root) environment on PATH.  To do so, run\n",
      "\n",
      "    $ conda activate\n",
      "\n",
      "in your terminal, or to put the base environment on PATH permanently, run\n",
      "\n",
      "    $ echo \"conda activate\" >> ~/.bashrc\n",
      "\n",
      "Previous to conda 4.4, the recommended way to activate conda was to modify PATH in\n",
      "your ~/.bashrc file.  You should manually remove the line that looks like\n",
      "\n",
      "    export PATH=\"/home/betterlab/anaconda3/bin:$PATH\"\n",
      "\n",
      "^^^ The above line should NO LONGER be in your ~/.bashrc file! ^^^\n",
      "\n",
      "\n"
     ]
    }
   ],
   "source": [
    "#%%bash \n",
    "#conda activate metagenomics"
   ]
  },
  {
   "cell_type": "markdown",
   "metadata": {},
   "source": [
    "A continuación creamos indices con para cada uno de los genomas refencia, para ello utilizamos el comando `bowtie2-build`. Los respectivos archivos de salida los almacenamos en la carpeta `index-bowtie`. Adicionalmente, creamos el archivo `list-genomes.txt` que contiene los nombre de cada archivo de salida del `bowtie2-build`."
   ]
  },
  {
   "cell_type": "code",
   "execution_count": 5,
   "metadata": {},
   "outputs": [
    {
     "name": "stderr",
     "output_type": "stream",
     "text": [
      "bash: line 3: bowtie2-build: command not found\n",
      "bash: line 3: bowtie2-build: command not found\n",
      "bash: line 3: bowtie2-build: command not found\n",
      "bash: line 3: bowtie2-build: command not found\n",
      "bash: line 3: bowtie2-build: command not found\n",
      "bash: line 3: bowtie2-build: command not found\n",
      "bash: line 3: bowtie2-build: command not found\n",
      "bash: line 3: bowtie2-build: command not found\n",
      "bash: line 3: bowtie2-build: command not found\n",
      "bash: line 3: bowtie2-build: command not found\n",
      "bash: line 3: bowtie2-build: command not found\n",
      "bash: line 3: bowtie2-build: command not found\n",
      "bash: line 3: bowtie2-build: command not found\n",
      "bash: line 3: bowtie2-build: command not found\n",
      "bash: line 3: bowtie2-build: command not found\n",
      "bash: line 3: bowtie2-build: command not found\n",
      "bash: line 3: bowtie2-build: command not found\n",
      "bash: line 3: bowtie2-build: command not found\n",
      "bash: line 3: bowtie2-build: command not found\n",
      "bash: line 3: bowtie2-build: command not found\n",
      "bash: line 3: bowtie2-build: command not found\n",
      "bash: line 3: bowtie2-build: command not found\n",
      "bash: line 3: bowtie2-build: command not found\n",
      "bash: line 3: bowtie2-build: command not found\n",
      "bash: line 3: bowtie2-build: command not found\n",
      "bash: line 3: bowtie2-build: command not found\n",
      "bash: line 3: bowtie2-build: command not found\n",
      "bash: line 3: bowtie2-build: command not found\n"
     ]
    }
   ],
   "source": [
    "%%bash\n",
    "ls genomas-clavi/clavi-genomes/*fna | while read line; \n",
    "do \n",
    "    id=$(echo $line| rev| cut -d'_' -f1,2,3 |rev |cut -d'.' -f1);\n",
    "    bowtie2-build $line genomas-clavi/clavi-genomes/index-bowtie/$id;\n",
    "    echo \"$id\" >>list-genomes.txt\n",
    "done\n",
    "\n",
    "#\n",
    "\n",
    "\n",
    "\n"
   ]
  },
  {
   "cell_type": "markdown",
   "metadata": {},
   "source": [
    "Lo siguiente es mapear los reads a los genomas de referencia, utilizamos `bowtie2` y obtenemos arhivos de salidas *.sam* que guardaremos en la carpeta `output-bowtie` "
   ]
  },
  {
   "cell_type": "code",
   "execution_count": null,
   "metadata": {},
   "outputs": [],
   "source": [
    "#reference=subsp_capsici_1101  ; usar para extraer las lineas de archivo sed '1q;d' index-genomes.txt\n",
    "for infile in ex-reads-clavi/fastq/fastq/capsicum/*-clav-1.fq\n",
    "do \n",
    "base=$(basename ${infile} -clav-1.fq)\n",
    "dir=$(dirname ${infile} )\n",
    "bowtie2 -x genomas-clavi/clavi-genomes/index-bowtie/subsp_capsici_1101 -1 ${dir}/${base}-clav-1.fq -2 ${dir}/${base}-clav-2.fq  --no-unal -p 12 -S genomas-clavi/clavi-genomes/out-bowtie/${base}.sam\n",
    "done"
   ]
  }
 ],
 "metadata": {
  "kernelspec": {
   "display_name": "Python 3",
   "language": "python",
   "name": "python3"
  },
  "language_info": {
   "codemirror_mode": {
    "name": "ipython",
    "version": 3
   },
   "file_extension": ".py",
   "mimetype": "text/x-python",
   "name": "python",
   "nbconvert_exporter": "python",
   "pygments_lexer": "ipython3",
   "version": "3.6.5"
  }
 },
 "nbformat": 4,
 "nbformat_minor": 2
}
