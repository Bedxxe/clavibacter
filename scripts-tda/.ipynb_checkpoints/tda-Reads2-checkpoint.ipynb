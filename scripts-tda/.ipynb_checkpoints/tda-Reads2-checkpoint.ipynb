{
 "cells": [
  {
   "cell_type": "code",
   "execution_count": 1,
   "id": "d16e55f8-42c4-476f-ada0-7aa0d1e09aec",
   "metadata": {},
   "outputs": [],
   "source": [
    "import pandas as pd\n",
    "import seaborn as sb\n",
    "import csv\n",
    "from sympy import FiniteSet\n",
    "\n",
    "#import pysam\n",
    "import os\n",
    "import math\n",
    "import random\n",
    "import numpy as np\n",
    "\n",
    "from pathlib import Path\n",
    "from random import seed\n",
    "from random import randint"
   ]
  },
  {
   "cell_type": "code",
   "execution_count": 2,
   "id": "9809b266-ac37-42be-b43f-45bfcfa8e8c1",
   "metadata": {},
   "outputs": [],
   "source": [
    "\n",
    "def powerset(fullset):\n",
    "  listsub = list(fullset)\n",
    "  subsets = []\n",
    "  for i in range(2**len(listsub)):\n",
    "    subset = []\n",
    "    for k in range(len(listsub)):            \n",
    "      if i & 1<<k:\n",
    "        subset.append(listsub[k])\n",
    "    subsets.append(subset)        \n",
    "  return subsets"
   ]
  },
  {
   "cell_type": "code",
   "execution_count": 3,
   "id": "0f5cd235-e895-4eaf-8c74-f8ddc1fea333",
   "metadata": {},
   "outputs": [],
   "source": [
    "def Sy(dic,X):\n",
    "    dict_items=dic.items()\n",
    "    i=1\n",
    "    for k in X:\n",
    "        myValue=k\n",
    "        globals()[\"Y{}\".format(i)] =[key for key,value in dict_items if value==myValue]\n",
    "        mykey=[key for key,value in dict_items if value==myValue]\n",
    "        i+=1\n",
    "    return Y1,Y2,Y3,Y4,Y5,Y6,Y7\n"
   ]
  },
  {
   "cell_type": "code",
   "execution_count": 5,
   "id": "067266ed-cd96-447b-a81b-bfd8db1bad13",
   "metadata": {},
   "outputs": [],
   "source": [
    "def depth_Y2(conjunto,A):\n",
    "    m=len(A)\n",
    "    if os.stat(ruta_depth + conjunto + '-Simulados-subsp_capsici_1101_sorted.txt').st_size > 0:\n",
    "        d1 = pd.read_csv(ruta_depth + conjunto + '-Simulados-subsp_capsici_1101_sorted.txt', sep='\\t', header=None)\n",
    "        a1=d1[2].sum()\n",
    "        l1=len(d1)\n",
    "        dyx1=a1/(l1)*1/m**2\n",
    "    else:\n",
    "        dyx1=0\n",
    "    if os.stat(ruta_depth +conjunto + '-Simulados-subsp_nebraskensis_61-1_sorted.txt').st_size > 0:\n",
    "        d2 = pd.read_csv(ruta_depth + conjunto + '-Simulados-subsp_nebraskensis_61-1_sorted.txt', sep='\\t', header=None)\n",
    "        a2=d2[2].sum()\n",
    "        l2=len(d2)\n",
    "        dyx2=a2/(l2)*1/m**2\n",
    "    else:\n",
    "        dyx2=0\n",
    "    if os.stat(ruta_depth + conjunto + '-Simulados-subsp_michi_contigs_sorted.txt').st_size > 0:\n",
    "        d3 = pd.read_csv(ruta_depth + conjunto + '-Simulados-subsp_michi_contigs_sorted.txt', sep='\\t', header=None)\n",
    "        a3=d3[2].sum()\n",
    "        l3=len(d3)\n",
    "        dyx3=a3/(l3)*1/m**2\n",
    "    else:\n",
    "        dyx3=0\n",
    "    return dyx1,dyx2,dyx3    "
   ]
  },
  {
   "cell_type": "code",
   "execution_count": 6,
   "id": "f19361fe-b906-4695-9160-8cfe30040159",
   "metadata": {},
   "outputs": [],
   "source": [
    "#calculo de profundiades previa\n",
    "def depth_Y(conjunto,A):\n",
    "    d1 = pd.read_csv(ruta_depth + conjunto+ '-Simulados-subsp_capsici_1101_sorted.txt', sep='\\t', header=None) #importar las tablas para cada genoma\n",
    "    d2 = pd.read_csv(ruta_depth + conjunto+ '-Simulados-subsp_nebraskensis_61-1_sorted.txt', sep='\\t', header=None)\n",
    "    d3 = pd.read_csv(ruta_depth + conjunto+ '-Simulados-subsp_michi_contigs_sorted.txt', sep='\\t', header=None) \n",
    "    a1=d1[2].sum()\n",
    "    a2=d1[2].sum()\n",
    "    a3=d1[2].sum()\n",
    "    ay=(a1+a2+a3)/3\n",
    "    l1=len(d1)\n",
    "    l2=len(d2)\n",
    "    l3=len(d3)\n",
    "    m=len(A)\n",
    "    dyx1=ay/(l1)*1/m**2\n",
    "    dyx2=ay/(l2)*1/m**2\n",
    "    dyx3=ay/(l3)*1/m**2\n",
    "    return dyx1,dyx2,dyx3"
   ]
  },
  {
   "cell_type": "code",
   "execution_count": 7,
   "id": "cb25bf7d-e4d3-44a4-91ce-23ac0af03681",
   "metadata": {},
   "outputs": [],
   "source": [
    "folder1='1TP' #nombre donde esta los genomas\n",
    "#folder_bash=1TP"
   ]
  },
  {
   "cell_type": "code",
   "execution_count": 8,
   "id": "f2c8a3fb-a64a-4d5e-8cd1-b615d2707ebb",
   "metadata": {},
   "outputs": [
    {
     "name": "stdout",
     "output_type": "stream",
     "text": [
      "clavi_select/1TP/Clavibacter_michiganensis_subsp_michi_contigs.fna\n"
     ]
    }
   ],
   "source": [
    "%%bash -s \"$folder1\"\n",
    "ls clavi_select/$1/*fna"
   ]
  },
  {
   "cell_type": "code",
   "execution_count": null,
   "id": "6762452b-d402-4e3d-8e72-e3c982d41d9d",
   "metadata": {},
   "outputs": [],
   "source": [
    "#os.makedirs('output-tda/'+folder1)\n",
    "#os.makedirs('output-tda/'+folder1+'/index-bowtie')\n",
    "#os.makedirs('output-tda/'+folder1+'/out-bowtie')\n",
    "#os.makedirs('output-tda/'+folder1+'/bam')\n",
    "#os.makedirs('output-tda/'+folder1+'/sorted')\n",
    "#os.makedirs('output-tda/'+folder1+'/tablas')\n",
    "#os.makedirs('output-tda/'+folder1+'/SyReads')\n",
    "#os.makedirs('output-tda/'+folder1+'/sam_extract')\n",
    "#os.makedirs('output-tda/'+folder1+'/depth')"
   ]
  },
  {
   "cell_type": "code",
   "execution_count": null,
   "id": "1d3f2566-d9db-4336-9369-d4cf450f3d11",
   "metadata": {},
   "outputs": [],
   "source": [
    "%%bash -s \"$folder1\"\n",
    "source /opt/anaconda3/etc/profile.d/conda.sh\n",
    "conda activate metagenomics\n",
    "ls clavi_select/$1/*fna | while read line; \n",
    "do \n",
    "    id=$(echo $line| rev| cut -d'_' -f1,2,3 |rev |cut -d'.' -f1);\n",
    "    bowtie2-build $line output-tda/$1/index-bowtie/$id;\n",
    "    echo \"$id\" >>list-genomasrefencia2TP.txt\n",
    "done"
   ]
  },
  {
   "cell_type": "code",
   "execution_count": null,
   "id": "854dbff2-9b5b-4b9f-8b91-1933097df36a",
   "metadata": {},
   "outputs": [],
   "source": [
    "%%bash -s \"$folder1\"\n",
    "source /opt/anaconda3/etc/profile.d/conda.sh\n",
    "conda activate metagenomics\n",
    "\n",
    "cat list-genomasrefencia3TP.txt | while read line;\n",
    "do\n",
    "bowtie2 -x output-tda/3TP/index-bowtie/$line -U ReadsSimulados/reads-$1.fastq --no-unal -p 12 -S output-tda/$folder/out-bowtie/Simulados-${line}.sam\n",
    "done"
   ]
  },
  {
   "cell_type": "markdown",
   "id": "b38eb27f-88ef-4919-b82e-a9d97ddc0c58",
   "metadata": {},
   "source": [
    "6000 reads; of these:\n",
    "  6000 (100.00%) were unpaired; of these:\n",
    "    2657 (44.28%) aligned 0 times\n",
    "    3286 (54.77%) aligned exactly 1 time\n",
    "    57 (0.95%) aligned >1 times\n",
    "55.72% overall alignment rate\n",
    "6000 reads; of these:\n",
    "  6000 (100.00%) were unpaired; of these:\n",
    "    1555 (25.92%) aligned 0 times\n",
    "    4220 (70.33%) aligned exactly 1 time\n",
    "    225 (3.75%) aligned >1 times\n",
    "74.08% overall alignment rate\n",
    "6000 reads; of these:\n",
    "  6000 (100.00%) were unpaired; of these:\n",
    "    3751 (62.52%) aligned 0 times\n",
    "    2236 (37.27%) aligned exactly 1 time\n",
    "    13 (0.22%) aligned >1 times\n",
    "37.48% overall alignment rate"
   ]
  },
  {
   "cell_type": "code",
   "execution_count": null,
   "id": "be3d5163-3654-4d9c-a4bf-8160bf9e8dc5",
   "metadata": {},
   "outputs": [],
   "source": [
    "%%bash -s \"$folder1\"\n",
    "for infile in output-tda/$1/out-bowtie/*.sam\n",
    "do \n",
    "\tbase=$(basename ${infile} .sam)\n",
    "\tsamtools view ${infile} -o output-tda/$1/bam/${base}.bam\n",
    "    samtools sort ${infile} -o output-tda/$1/sorted/${base}_sorted.sam\n",
    "done"
   ]
  },
  {
   "cell_type": "code",
   "execution_count": null,
   "id": "e1a48dce-588b-45ae-8d49-4bafff4819b9",
   "metadata": {},
   "outputs": [],
   "source": [
    "%%bash -s \"$folder1\"\n",
    "for infile in output-tda/$1/bam/*.bam\n",
    "do \n",
    "\tbase=$(basename ${infile} .bam)\n",
    "\tsamtools sort ${infile} -o output-tda/$1/sorted/${base}_sorted.bam\n",
    "\tsamtools view ${infile} > output-tda/$1/bam/${base}.txt\n",
    "done"
   ]
  },
  {
   "cell_type": "code",
   "execution_count": null,
   "id": "8de822c6-5867-4f01-a43b-6ada57a1f971",
   "metadata": {},
   "outputs": [],
   "source": [
    "%%bash -s \"$folder1\"\n",
    "cd ~/GIT/clavibacter/scripts-tda/\n",
    "ls output-tda/$1/bam/*.txt | while read line\n",
    "do\n",
    "    base=$(basename ${line} .txt)\n",
    "    cut -f 1-6 $line > output-tda/$1/tablas/${base}_extrac.txt\n",
    "done"
   ]
  },
  {
   "cell_type": "code",
   "execution_count": 9,
   "id": "52100e3b-68b9-4da3-844d-e324b9136938",
   "metadata": {},
   "outputs": [
    {
     "data": {
      "text/html": [
       "<div>\n",
       "<style scoped>\n",
       "    .dataframe tbody tr th:only-of-type {\n",
       "        vertical-align: middle;\n",
       "    }\n",
       "\n",
       "    .dataframe tbody tr th {\n",
       "        vertical-align: top;\n",
       "    }\n",
       "\n",
       "    .dataframe thead th {\n",
       "        text-align: right;\n",
       "    }\n",
       "</style>\n",
       "<table border=\"1\" class=\"dataframe\">\n",
       "  <thead>\n",
       "    <tr style=\"text-align: right;\">\n",
       "      <th></th>\n",
       "      <th>Qname</th>\n",
       "      <th>Flag</th>\n",
       "      <th>Rname</th>\n",
       "      <th>Pos</th>\n",
       "      <th>MapQ</th>\n",
       "      <th>CIGAR</th>\n",
       "      <th>Organims</th>\n",
       "    </tr>\n",
       "  </thead>\n",
       "  <tbody>\n",
       "    <tr>\n",
       "      <th>0</th>\n",
       "      <td>NZ_CP048050.1_0</td>\n",
       "      <td>0</td>\n",
       "      <td>NZ_CP048050.1</td>\n",
       "      <td>98092</td>\n",
       "      <td>42</td>\n",
       "      <td>150M</td>\n",
       "      <td>capsici_1101</td>\n",
       "    </tr>\n",
       "    <tr>\n",
       "      <th>1</th>\n",
       "      <td>NC_009480.1_0</td>\n",
       "      <td>0</td>\n",
       "      <td>NZ_CP048050.1</td>\n",
       "      <td>68359</td>\n",
       "      <td>42</td>\n",
       "      <td>150M</td>\n",
       "      <td>capsici_1101</td>\n",
       "    </tr>\n",
       "    <tr>\n",
       "      <th>2</th>\n",
       "      <td>NC_009479.1_0</td>\n",
       "      <td>0</td>\n",
       "      <td>NZ_CP048050.1</td>\n",
       "      <td>16948</td>\n",
       "      <td>42</td>\n",
       "      <td>150M</td>\n",
       "      <td>capsici_1101</td>\n",
       "    </tr>\n",
       "    <tr>\n",
       "      <th>3</th>\n",
       "      <td>NZ_CP048050.1_1</td>\n",
       "      <td>0</td>\n",
       "      <td>NZ_CP048050.1</td>\n",
       "      <td>93115</td>\n",
       "      <td>23</td>\n",
       "      <td>150M</td>\n",
       "      <td>capsici_1101</td>\n",
       "    </tr>\n",
       "    <tr>\n",
       "      <th>4</th>\n",
       "      <td>NC_009480.1_1</td>\n",
       "      <td>0</td>\n",
       "      <td>NZ_CP048050.1</td>\n",
       "      <td>48066</td>\n",
       "      <td>42</td>\n",
       "      <td>150M</td>\n",
       "      <td>capsici_1101</td>\n",
       "    </tr>\n",
       "    <tr>\n",
       "      <th>...</th>\n",
       "      <td>...</td>\n",
       "      <td>...</td>\n",
       "      <td>...</td>\n",
       "      <td>...</td>\n",
       "      <td>...</td>\n",
       "      <td>...</td>\n",
       "      <td>...</td>\n",
       "    </tr>\n",
       "    <tr>\n",
       "      <th>4443</th>\n",
       "      <td>NC_009480.1_985</td>\n",
       "      <td>0</td>\n",
       "      <td>NC_009480.1</td>\n",
       "      <td>168423</td>\n",
       "      <td>7</td>\n",
       "      <td>150M</td>\n",
       "      <td>michi_contigs</td>\n",
       "    </tr>\n",
       "    <tr>\n",
       "      <th>4444</th>\n",
       "      <td>NC_009478.1_985</td>\n",
       "      <td>0</td>\n",
       "      <td>NC_009480.1</td>\n",
       "      <td>3119250</td>\n",
       "      <td>42</td>\n",
       "      <td>150M</td>\n",
       "      <td>michi_contigs</td>\n",
       "    </tr>\n",
       "    <tr>\n",
       "      <th>4445</th>\n",
       "      <td>NZ_CP033723.2_985</td>\n",
       "      <td>0</td>\n",
       "      <td>NC_009478.1</td>\n",
       "      <td>1232</td>\n",
       "      <td>42</td>\n",
       "      <td>150M</td>\n",
       "      <td>michi_contigs</td>\n",
       "    </tr>\n",
       "    <tr>\n",
       "      <th>4446</th>\n",
       "      <td>NZ_CP048049.1_986</td>\n",
       "      <td>0</td>\n",
       "      <td>NC_009479.1</td>\n",
       "      <td>5287</td>\n",
       "      <td>42</td>\n",
       "      <td>150M</td>\n",
       "      <td>michi_contigs</td>\n",
       "    </tr>\n",
       "    <tr>\n",
       "      <th>4447</th>\n",
       "      <td>NZ_CP048050.1_986</td>\n",
       "      <td>0</td>\n",
       "      <td>NC_009478.1</td>\n",
       "      <td>8336</td>\n",
       "      <td>42</td>\n",
       "      <td>150M</td>\n",
       "      <td>michi_contigs</td>\n",
       "    </tr>\n",
       "  </tbody>\n",
       "</table>\n",
       "<p>9870 rows × 7 columns</p>\n",
       "</div>"
      ],
      "text/plain": [
       "                  Qname  Flag          Rname      Pos  MapQ CIGAR  \\\n",
       "0       NZ_CP048050.1_0     0  NZ_CP048050.1    98092    42  150M   \n",
       "1         NC_009480.1_0     0  NZ_CP048050.1    68359    42  150M   \n",
       "2         NC_009479.1_0     0  NZ_CP048050.1    16948    42  150M   \n",
       "3       NZ_CP048050.1_1     0  NZ_CP048050.1    93115    23  150M   \n",
       "4         NC_009480.1_1     0  NZ_CP048050.1    48066    42  150M   \n",
       "...                 ...   ...            ...      ...   ...   ...   \n",
       "4443    NC_009480.1_985     0    NC_009480.1   168423     7  150M   \n",
       "4444    NC_009478.1_985     0    NC_009480.1  3119250    42  150M   \n",
       "4445  NZ_CP033723.2_985     0    NC_009478.1     1232    42  150M   \n",
       "4446  NZ_CP048049.1_986     0    NC_009479.1     5287    42  150M   \n",
       "4447  NZ_CP048050.1_986     0    NC_009478.1     8336    42  150M   \n",
       "\n",
       "           Organims  \n",
       "0      capsici_1101  \n",
       "1      capsici_1101  \n",
       "2      capsici_1101  \n",
       "3      capsici_1101  \n",
       "4      capsici_1101  \n",
       "...             ...  \n",
       "4443  michi_contigs  \n",
       "4444  michi_contigs  \n",
       "4445  michi_contigs  \n",
       "4446  michi_contigs  \n",
       "4447  michi_contigs  \n",
       "\n",
       "[9870 rows x 7 columns]"
      ]
     },
     "execution_count": 9,
     "metadata": {},
     "output_type": "execute_result"
    }
   ],
   "source": [
    "ruta_tablas = '/home/shaday/GIT/clavibacter/scripts-tda/output-tda/'+folder1+'/tablas/'\n",
    "contenido = os.listdir(ruta_tablas)\n",
    "genomes = []\n",
    "df=[]\n",
    "for i in contenido:\n",
    "    dftt = pd.read_csv(ruta_tablas + i, sep='\\t', header=None) #importar las tablas para cada genoma\n",
    "    dftt['Organims']=i[16:-11] #agregar el nombre del organismo\n",
    "    df.append(dftt) #agregar al dataframe\n",
    "    genomes.append(i[16:-11])\n",
    "    \n",
    "df=pd.concat(df)\n",
    "df.columns= ['Qname','Flag', 'Rname', 'Pos','MapQ','CIGAR','Organims'] #cambiar nombre a las columnas del dataframe\n",
    "df "
   ]
  },
  {
   "cell_type": "code",
   "execution_count": 10,
   "id": "d78af88b-dbd8-4f87-a9e4-810d66e4eda5",
   "metadata": {},
   "outputs": [
    {
     "data": {
      "text/html": [
       "<div>\n",
       "<style scoped>\n",
       "    .dataframe tbody tr th:only-of-type {\n",
       "        vertical-align: middle;\n",
       "    }\n",
       "\n",
       "    .dataframe tbody tr th {\n",
       "        vertical-align: top;\n",
       "    }\n",
       "\n",
       "    .dataframe thead th {\n",
       "        text-align: right;\n",
       "    }\n",
       "</style>\n",
       "<table border=\"1\" class=\"dataframe\">\n",
       "  <thead>\n",
       "    <tr style=\"text-align: right;\">\n",
       "      <th></th>\n",
       "      <th>Qname</th>\n",
       "      <th>Flag</th>\n",
       "      <th>Rname</th>\n",
       "      <th>Pos</th>\n",
       "      <th>MapQ</th>\n",
       "      <th>CIGAR</th>\n",
       "      <th>Organims</th>\n",
       "    </tr>\n",
       "  </thead>\n",
       "  <tbody>\n",
       "    <tr>\n",
       "      <th>0</th>\n",
       "      <td>NZ_CP048050.1_0</td>\n",
       "      <td>0</td>\n",
       "      <td>NZ_CP048050.1</td>\n",
       "      <td>98092</td>\n",
       "      <td>42</td>\n",
       "      <td>150M</td>\n",
       "      <td>X1</td>\n",
       "    </tr>\n",
       "    <tr>\n",
       "      <th>1</th>\n",
       "      <td>NC_009480.1_0</td>\n",
       "      <td>0</td>\n",
       "      <td>NZ_CP048050.1</td>\n",
       "      <td>68359</td>\n",
       "      <td>42</td>\n",
       "      <td>150M</td>\n",
       "      <td>X1</td>\n",
       "    </tr>\n",
       "    <tr>\n",
       "      <th>2</th>\n",
       "      <td>NC_009479.1_0</td>\n",
       "      <td>0</td>\n",
       "      <td>NZ_CP048050.1</td>\n",
       "      <td>16948</td>\n",
       "      <td>42</td>\n",
       "      <td>150M</td>\n",
       "      <td>X1</td>\n",
       "    </tr>\n",
       "    <tr>\n",
       "      <th>3</th>\n",
       "      <td>NZ_CP048050.1_1</td>\n",
       "      <td>0</td>\n",
       "      <td>NZ_CP048050.1</td>\n",
       "      <td>93115</td>\n",
       "      <td>23</td>\n",
       "      <td>150M</td>\n",
       "      <td>X1</td>\n",
       "    </tr>\n",
       "    <tr>\n",
       "      <th>4</th>\n",
       "      <td>NC_009480.1_1</td>\n",
       "      <td>0</td>\n",
       "      <td>NZ_CP048050.1</td>\n",
       "      <td>48066</td>\n",
       "      <td>42</td>\n",
       "      <td>150M</td>\n",
       "      <td>X1</td>\n",
       "    </tr>\n",
       "    <tr>\n",
       "      <th>...</th>\n",
       "      <td>...</td>\n",
       "      <td>...</td>\n",
       "      <td>...</td>\n",
       "      <td>...</td>\n",
       "      <td>...</td>\n",
       "      <td>...</td>\n",
       "      <td>...</td>\n",
       "    </tr>\n",
       "    <tr>\n",
       "      <th>4443</th>\n",
       "      <td>NC_009480.1_985</td>\n",
       "      <td>0</td>\n",
       "      <td>NC_009480.1</td>\n",
       "      <td>168423</td>\n",
       "      <td>7</td>\n",
       "      <td>150M</td>\n",
       "      <td>X3</td>\n",
       "    </tr>\n",
       "    <tr>\n",
       "      <th>4444</th>\n",
       "      <td>NC_009478.1_985</td>\n",
       "      <td>0</td>\n",
       "      <td>NC_009480.1</td>\n",
       "      <td>3119250</td>\n",
       "      <td>42</td>\n",
       "      <td>150M</td>\n",
       "      <td>X3</td>\n",
       "    </tr>\n",
       "    <tr>\n",
       "      <th>4445</th>\n",
       "      <td>NZ_CP033723.2_985</td>\n",
       "      <td>0</td>\n",
       "      <td>NC_009478.1</td>\n",
       "      <td>1232</td>\n",
       "      <td>42</td>\n",
       "      <td>150M</td>\n",
       "      <td>X3</td>\n",
       "    </tr>\n",
       "    <tr>\n",
       "      <th>4446</th>\n",
       "      <td>NZ_CP048049.1_986</td>\n",
       "      <td>0</td>\n",
       "      <td>NC_009479.1</td>\n",
       "      <td>5287</td>\n",
       "      <td>42</td>\n",
       "      <td>150M</td>\n",
       "      <td>X3</td>\n",
       "    </tr>\n",
       "    <tr>\n",
       "      <th>4447</th>\n",
       "      <td>NZ_CP048050.1_986</td>\n",
       "      <td>0</td>\n",
       "      <td>NC_009478.1</td>\n",
       "      <td>8336</td>\n",
       "      <td>42</td>\n",
       "      <td>150M</td>\n",
       "      <td>X3</td>\n",
       "    </tr>\n",
       "  </tbody>\n",
       "</table>\n",
       "<p>9870 rows × 7 columns</p>\n",
       "</div>"
      ],
      "text/plain": [
       "                  Qname  Flag          Rname      Pos  MapQ CIGAR Organims\n",
       "0       NZ_CP048050.1_0     0  NZ_CP048050.1    98092    42  150M       X1\n",
       "1         NC_009480.1_0     0  NZ_CP048050.1    68359    42  150M       X1\n",
       "2         NC_009479.1_0     0  NZ_CP048050.1    16948    42  150M       X1\n",
       "3       NZ_CP048050.1_1     0  NZ_CP048050.1    93115    23  150M       X1\n",
       "4         NC_009480.1_1     0  NZ_CP048050.1    48066    42  150M       X1\n",
       "...                 ...   ...            ...      ...   ...   ...      ...\n",
       "4443    NC_009480.1_985     0    NC_009480.1   168423     7  150M       X3\n",
       "4444    NC_009478.1_985     0    NC_009480.1  3119250    42  150M       X3\n",
       "4445  NZ_CP033723.2_985     0    NC_009478.1     1232    42  150M       X3\n",
       "4446  NZ_CP048049.1_986     0    NC_009479.1     5287    42  150M       X3\n",
       "4447  NZ_CP048050.1_986     0    NC_009478.1     8336    42  150M       X3\n",
       "\n",
       "[9870 rows x 7 columns]"
      ]
     },
     "execution_count": 10,
     "metadata": {},
     "output_type": "execute_result"
    }
   ],
   "source": [
    "X=df['Organims'].unique().tolist()\n",
    "len(X)\n",
    "dic_Organisms={}\n",
    "for k in range(len(X)):\n",
    "    dic_Organisms[X[k]]=\"X{0}\".format(k+1)\n",
    "dic_Organisms\n",
    "df2=df.replace({\"Organims\": dic_Organisms}) \n",
    "\n",
    "X2=df2['Organims'].unique().tolist() #lista de genomas \n",
    "A=powerset(X2) #conjunto potencia\n",
    "A=A[1:] #eliminiamos el conjunto vacio\n",
    "df2"
   ]
  },
  {
   "cell_type": "code",
   "execution_count": 17,
   "id": "6e05e615-4e2f-462c-8d54-fde571edb946",
   "metadata": {},
   "outputs": [],
   "source": [
    "#df2.to_csv('CSV/MapeoReads-1TP.csv')"
   ]
  },
  {
   "cell_type": "code",
   "execution_count": 16,
   "id": "a27f3620-47de-4724-a1e2-f8ef2d8b8be4",
   "metadata": {},
   "outputs": [],
   "source": [
    "dic={}\n",
    "l=0\n",
    "Reads=df2['Qname'].unique().tolist()\n",
    "for k in Reads:\n",
    "    valores=list(df2.loc[df2.Qname==k].iloc[:,6])\n",
    "    dic[k]=valores\n"
   ]
  },
  {
   "cell_type": "code",
   "execution_count": 12,
   "id": "35f1187c-8f4d-440f-9630-f29d259d0392",
   "metadata": {},
   "outputs": [],
   "source": [
    "# Calculamos SY para cada Y en 2**X\n",
    "SY=[]\n",
    "SY= Sy(dic,A)"
   ]
  },
  {
   "cell_type": "code",
   "execution_count": null,
   "id": "6450003f-e609-4b62-b161-0ffde9596819",
   "metadata": {},
   "outputs": [],
   "source": [
    "#Exportamos Sy a txt\n",
    "for k in range(len(SY)):\n",
    "    with open('output-tda/'+folder1+'/Seads/Sy{0}.txt'.format(k), 'w') as f:\n",
    "        for line in SY[k]:\n",
    "            f.write(f\"{line}\\n\")"
   ]
  },
  {
   "cell_type": "code",
   "execution_count": null,
   "id": "b484859f-0305-47c5-b569-05cdb1d015c9",
   "metadata": {},
   "outputs": [],
   "source": [
    "#añadir un tab al final de cada linea de los reads\n",
    "%%bash -s \"$folder1\"\n",
    "ls output-tda/$1/SyReads/*.txt | while read file\n",
    "do\n",
    "perl -p -i -e 's/$/\\t/' $file\n",
    "done"
   ]
  },
  {
   "cell_type": "code",
   "execution_count": null,
   "id": "2ccabcca-a4a5-45f1-9809-247410048c20",
   "metadata": {},
   "outputs": [],
   "source": [
    "#extraer los reads de  de cada SY\n",
    "%%bash -s \"$folder1\"\n",
    "for line in output-tda/$1/SyReads/*.txt \n",
    "do\n",
    "    bash 02-extract-reads-for-SY2.sh $1 $line\n",
    "done"
   ]
  },
  {
   "cell_type": "code",
   "execution_count": null,
   "id": "5fd0606f-8dbe-436a-9fcb-ba3c0d12ea0f",
   "metadata": {},
   "outputs": [],
   "source": [
    "#Calcular los depth de cada SY\n",
    "%%bash -s \"$folder1\"\n",
    "for line in output-tda/$1/sam_extract/*.bam\n",
    "do\n",
    "    base=$(basename ${line} .bam)\n",
    "    samtools depth ${line} > output-tda/$1/depth/${base}.txt\n",
    "done"
   ]
  },
  {
   "cell_type": "code",
   "execution_count": 11,
   "id": "52d601e1-6200-40fd-b514-3d93b244dc3b",
   "metadata": {},
   "outputs": [
    {
     "data": {
      "text/plain": [
       "['Sy3-Simulados-subsp_capsici_1101_sorted.txt',\n",
       " 'Sy4-Simulados-subsp_michi_contigs_sorted.txt',\n",
       " 'Sy6-Simulados-subsp_michi_contigs_sorted.txt',\n",
       " 'Sy5-Simulados-subsp_nebraskensis_61-1_sorted.txt',\n",
       " 'Sy2-Simulados-subsp_nebraskensis_61-1_sorted.txt',\n",
       " 'Sy1-Simulados-subsp_capsici_1101_sorted.txt',\n",
       " 'Sy0-Simulados-subsp_michi_contigs_sorted.txt',\n",
       " 'Sy6-Simulados-subsp_capsici_1101_sorted.txt',\n",
       " 'Sy3-Simulados-subsp_nebraskensis_61-1_sorted.txt',\n",
       " 'Sy2-Simulados-subsp_michi_contigs_sorted.txt',\n",
       " 'Sy1-Simulados-subsp_michi_contigs_sorted.txt',\n",
       " 'Sy5-Simulados-subsp_capsici_1101_sorted.txt',\n",
       " 'Sy2-Simulados-subsp_capsici_1101_sorted.txt',\n",
       " 'Sy6-Simulados-subsp_nebraskensis_61-1_sorted.txt',\n",
       " 'Sy4-Simulados-subsp_capsici_1101_sorted.txt',\n",
       " 'Sy3-Simulados-subsp_michi_contigs_sorted.txt',\n",
       " 'Sy5-Simulados-subsp_michi_contigs_sorted.txt',\n",
       " 'Sy0-Simulados-subsp_capsici_1101_sorted.txt',\n",
       " 'Sy4-Simulados-subsp_nebraskensis_61-1_sorted.txt',\n",
       " 'Sy0-Simulados-subsp_nebraskensis_61-1_sorted.txt',\n",
       " 'Sy1-Simulados-subsp_nebraskensis_61-1_sorted.txt']"
      ]
     },
     "execution_count": 11,
     "metadata": {},
     "output_type": "execute_result"
    }
   ],
   "source": [
    "#importar los depth\n",
    "ruta_depth = '/home/shaday/GIT/clavibacter/scripts-tda/output-tda/'+folder1+'/depth/'\n",
    "contenido_depth = os.listdir(ruta_depth)\n",
    "contenido_depth"
   ]
  },
  {
   "cell_type": "code",
   "execution_count": 39,
   "id": "86367024-39ac-442d-b11a-6e13453f0893",
   "metadata": {},
   "outputs": [],
   "source": [
    "#Calculo de profundidades\n",
    "dep=[]\n",
    "for i in range(len(A)):\n",
    "    globals()[\"Dep_Y{}\".format(i)]=depth_Y2('Sy{0}'.format(i),A[i])\n",
    "    dep.append(depth_Y2('Sy{0}'.format(i),A[i]))"
   ]
  },
  {
   "cell_type": "code",
   "execution_count": 40,
   "id": "6386a88e-d8b5-4204-bcce-f078e5aeae8c",
   "metadata": {},
   "outputs": [
    {
     "data": {
      "text/html": [
       "<div>\n",
       "<style scoped>\n",
       "    .dataframe tbody tr th:only-of-type {\n",
       "        vertical-align: middle;\n",
       "    }\n",
       "\n",
       "    .dataframe tbody tr th {\n",
       "        vertical-align: top;\n",
       "    }\n",
       "\n",
       "    .dataframe thead th {\n",
       "        text-align: right;\n",
       "    }\n",
       "</style>\n",
       "<table border=\"1\" class=\"dataframe\">\n",
       "  <thead>\n",
       "    <tr style=\"text-align: right;\">\n",
       "      <th></th>\n",
       "      <th>X1</th>\n",
       "      <th>X2</th>\n",
       "      <th>X3</th>\n",
       "    </tr>\n",
       "  </thead>\n",
       "  <tbody>\n",
       "    <tr>\n",
       "      <th>0</th>\n",
       "      <td>1.355061</td>\n",
       "      <td>0.000000</td>\n",
       "      <td>0.000000</td>\n",
       "    </tr>\n",
       "    <tr>\n",
       "      <th>1</th>\n",
       "      <td>0.000000</td>\n",
       "      <td>1.007605</td>\n",
       "      <td>0.000000</td>\n",
       "    </tr>\n",
       "    <tr>\n",
       "      <th>2</th>\n",
       "      <td>0.251599</td>\n",
       "      <td>0.251560</td>\n",
       "      <td>0.000000</td>\n",
       "    </tr>\n",
       "    <tr>\n",
       "      <th>3</th>\n",
       "      <td>0.000000</td>\n",
       "      <td>0.000000</td>\n",
       "      <td>2.593790</td>\n",
       "    </tr>\n",
       "    <tr>\n",
       "      <th>4</th>\n",
       "      <td>0.449539</td>\n",
       "      <td>0.000000</td>\n",
       "      <td>0.440425</td>\n",
       "    </tr>\n",
       "    <tr>\n",
       "      <th>5</th>\n",
       "      <td>0.000000</td>\n",
       "      <td>0.258541</td>\n",
       "      <td>0.258459</td>\n",
       "    </tr>\n",
       "    <tr>\n",
       "      <th>6</th>\n",
       "      <td>0.118768</td>\n",
       "      <td>0.118800</td>\n",
       "      <td>0.118809</td>\n",
       "    </tr>\n",
       "  </tbody>\n",
       "</table>\n",
       "</div>"
      ],
      "text/plain": [
       "         X1        X2        X3\n",
       "0  1.355061  0.000000  0.000000\n",
       "1  0.000000  1.007605  0.000000\n",
       "2  0.251599  0.251560  0.000000\n",
       "3  0.000000  0.000000  2.593790\n",
       "4  0.449539  0.000000  0.440425\n",
       "5  0.000000  0.258541  0.258459\n",
       "6  0.118768  0.118800  0.118809"
      ]
     },
     "execution_count": 40,
     "metadata": {},
     "output_type": "execute_result"
    }
   ],
   "source": [
    "dp = pd.DataFrame(dep,columns=dic_Organisms.values())\n",
    "dp"
   ]
  },
  {
   "cell_type": "code",
   "execution_count": 18,
   "id": "20a76e36-47ac-4c27-955a-a1214881477e",
   "metadata": {},
   "outputs": [
    {
     "data": {
      "text/plain": [
       "[['X1'],\n",
       " ['X2'],\n",
       " ['X1', 'X2'],\n",
       " ['X3'],\n",
       " ['X1', 'X3'],\n",
       " ['X2', 'X3'],\n",
       " ['X1', 'X2', 'X3']]"
      ]
     },
     "execution_count": 18,
     "metadata": {},
     "output_type": "execute_result"
    }
   ],
   "source": [
    "A"
   ]
  },
  {
   "cell_type": "code",
   "execution_count": 14,
   "id": "d7734035-9e04-4f9a-ad42-a4080a30510f",
   "metadata": {},
   "outputs": [
    {
     "data": {
      "text/plain": [
       "[0.0,\n",
       " 0.2515601861645864,\n",
       " 0.11879989292260427,\n",
       " 0.1187677984990415,\n",
       " 0.11880918748094202,\n",
       " 0.2515989217189069,\n",
       " 0.25845883139352,\n",
       " 0.25854054054054054,\n",
       " 0.4404248929280267,\n",
       " 0.44953883883350215,\n",
       " 1.0076051253218121,\n",
       " 2.593790478309586,\n",
       " 1.3550605516762937]"
      ]
     },
     "execution_count": 14,
     "metadata": {},
     "output_type": "execute_result"
    }
   ],
   "source": [
    "tiempo=[]\n",
    "for col in dp:\n",
    "    tiempo.extend(dp[col].unique().tolist())\n",
    "    tiempo.sort()\n",
    "tiempo=list(set(tiempo))\n",
    "tiempo"
   ]
  },
  {
   "cell_type": "code",
   "execution_count": null,
   "id": "a460154c-337d-40cc-a895-513847c842e4",
   "metadata": {},
   "outputs": [],
   "source": []
  },
  {
   "cell_type": "code",
   "execution_count": 53,
   "id": "3d2d0fe5-4551-46c0-980b-cda79d090913",
   "metadata": {},
   "outputs": [
    {
     "data": {
      "text/html": [
       "<div>\n",
       "<style scoped>\n",
       "    .dataframe tbody tr th:only-of-type {\n",
       "        vertical-align: middle;\n",
       "    }\n",
       "\n",
       "    .dataframe tbody tr th {\n",
       "        vertical-align: top;\n",
       "    }\n",
       "\n",
       "    .dataframe thead th {\n",
       "        text-align: right;\n",
       "    }\n",
       "</style>\n",
       "<table border=\"1\" class=\"dataframe\">\n",
       "  <thead>\n",
       "    <tr style=\"text-align: right;\">\n",
       "      <th></th>\n",
       "      <th>X1</th>\n",
       "      <th>X2</th>\n",
       "      <th>X3</th>\n",
       "    </tr>\n",
       "  </thead>\n",
       "  <tbody>\n",
       "    <tr>\n",
       "      <th>0</th>\n",
       "      <td>1.355061</td>\n",
       "      <td>0.000000</td>\n",
       "      <td>0.000000</td>\n",
       "    </tr>\n",
       "    <tr>\n",
       "      <th>1</th>\n",
       "      <td>0.000000</td>\n",
       "      <td>1.007605</td>\n",
       "      <td>0.000000</td>\n",
       "    </tr>\n",
       "    <tr>\n",
       "      <th>2</th>\n",
       "      <td>0.251599</td>\n",
       "      <td>0.251560</td>\n",
       "      <td>0.000000</td>\n",
       "    </tr>\n",
       "    <tr>\n",
       "      <th>3</th>\n",
       "      <td>0.000000</td>\n",
       "      <td>0.000000</td>\n",
       "      <td>2.593790</td>\n",
       "    </tr>\n",
       "    <tr>\n",
       "      <th>4</th>\n",
       "      <td>0.449539</td>\n",
       "      <td>0.000000</td>\n",
       "      <td>0.440425</td>\n",
       "    </tr>\n",
       "    <tr>\n",
       "      <th>5</th>\n",
       "      <td>0.000000</td>\n",
       "      <td>0.258541</td>\n",
       "      <td>0.258459</td>\n",
       "    </tr>\n",
       "    <tr>\n",
       "      <th>6</th>\n",
       "      <td>0.118768</td>\n",
       "      <td>0.118800</td>\n",
       "      <td>0.118809</td>\n",
       "    </tr>\n",
       "  </tbody>\n",
       "</table>\n",
       "</div>"
      ],
      "text/plain": [
       "         X1        X2        X3\n",
       "0  1.355061  0.000000  0.000000\n",
       "1  0.000000  1.007605  0.000000\n",
       "2  0.251599  0.251560  0.000000\n",
       "3  0.000000  0.000000  2.593790\n",
       "4  0.449539  0.000000  0.440425\n",
       "5  0.000000  0.258541  0.258459\n",
       "6  0.118768  0.118800  0.118809"
      ]
     },
     "execution_count": 53,
     "metadata": {},
     "output_type": "execute_result"
    }
   ],
   "source": [
    "# dp['Y']=A\n",
    "# dp\n",
    "dp"
   ]
  },
  {
   "cell_type": "code",
   "execution_count": 56,
   "id": "08d3d6ac-ae32-4868-9983-81f8b706201d",
   "metadata": {},
   "outputs": [
    {
     "data": {
      "text/plain": [
       "0.2515601861645864"
      ]
     },
     "execution_count": 56,
     "metadata": {},
     "output_type": "execute_result"
    }
   ],
   "source": [
    "t=tiempo[1]\n",
    "t"
   ]
  },
  {
   "cell_type": "code",
   "execution_count": 143,
   "id": "2ad95a8f-082f-45b1-bf43-15e5e30008dd",
   "metadata": {},
   "outputs": [
    {
     "data": {
      "text/plain": [
       "0                      [1.3550605516762937, 0, 0]\n",
       "1                      [0, 1.0076051253218121, 0]\n",
       "2                                       [0, 0, 0]\n",
       "3                       [0, 0, 2.593790478309586]\n",
       "4    [0.44953883883350215, 0, 0.4404248929280267]\n",
       "5                                       [0, 0, 0]\n",
       "6                                       [0, 0, 0]\n",
       "dtype: object"
      ]
     },
     "execution_count": 143,
     "metadata": {},
     "output_type": "execute_result"
    }
   ],
   "source": [
    "mat = dp.apply(lambda row: [i if i > .36 else 0 for i in row], axis=1)\n",
    "mat"
   ]
  },
  {
   "cell_type": "code",
   "execution_count": 144,
   "id": "71354b5e-9c8b-4164-8704-c35d428374a1",
   "metadata": {},
   "outputs": [
    {
     "data": {
      "text/plain": [
       "0       [1]\n",
       "1       [2]\n",
       "2        []\n",
       "3       [3]\n",
       "4    [1, 3]\n",
       "5        []\n",
       "6        []\n",
       "dtype: object"
      ]
     },
     "execution_count": 144,
     "metadata": {},
     "output_type": "execute_result"
    }
   ],
   "source": [
    "mat = dp.apply(lambda row: np.nonzero([i if i > .36 else 0 for i in row])[0]+1, axis=1)\n",
    "mat"
   ]
  },
  {
   "cell_type": "code",
   "execution_count": 135,
   "id": "5a8c6c3b-b08f-4aaa-9d3d-216c97b40ad4",
   "metadata": {},
   "outputs": [],
   "source": [
    "def distance(t,y):\n",
    "    mat=dp.apply(lambda row: np.nonzero([i if i > t else 0 for i in row])[0]+1, axis=1)\n",
    "    return mat[y]\n",
    "    "
   ]
  },
  {
   "cell_type": "code",
   "execution_count": 136,
   "id": "faa9b27d-3d9b-4d5c-a687-0377fdbba720",
   "metadata": {},
   "outputs": [
    {
     "data": {
      "text/plain": [
       "array([1, 2])"
      ]
     },
     "execution_count": 136,
     "metadata": {},
     "output_type": "execute_result"
    }
   ],
   "source": [
    "distance(.2,2)"
   ]
  },
  {
   "cell_type": "code",
   "execution_count": 145,
   "id": "821558d3-619d-4f63-9e5e-87f5d42f5d0d",
   "metadata": {},
   "outputs": [
    {
     "data": {
      "text/plain": [
       "[['X1'],\n",
       " ['X2'],\n",
       " ['X1', 'X2'],\n",
       " ['X3'],\n",
       " ['X1', 'X3'],\n",
       " ['X2', 'X3'],\n",
       " ['X1', 'X2', 'X3']]"
      ]
     },
     "execution_count": 145,
     "metadata": {},
     "output_type": "execute_result"
    }
   ],
   "source": [
    "A"
   ]
  },
  {
   "cell_type": "code",
   "execution_count": 20,
   "id": "9a7c1a2a-0622-4a8b-b871-8bc7c3eecfe9",
   "metadata": {},
   "outputs": [
    {
     "ename": "NameError",
     "evalue": "name 'B' is not defined",
     "output_type": "error",
     "traceback": [
      "\u001b[0;31m---------------------------------------------------------------------------\u001b[0m",
      "\u001b[0;31mNameError\u001b[0m                                 Traceback (most recent call last)",
      "\u001b[0;32m<ipython-input-20-e54060d352f3>\u001b[0m in \u001b[0;36m<module>\u001b[0;34m\u001b[0m\n\u001b[1;32m      1\u001b[0m \u001b[0mdp\u001b[0m\u001b[0;34m.\u001b[0m\u001b[0mto_csv\u001b[0m\u001b[0;34m(\u001b[0m\u001b[0;34m'CSV/Depth1TP.csv'\u001b[0m\u001b[0;34m)\u001b[0m\u001b[0;34m\u001b[0m\u001b[0;34m\u001b[0m\u001b[0m\n\u001b[0;32m----> 2\u001b[0;31m \u001b[0mB\u001b[0m\u001b[0;34m\u001b[0m\u001b[0;34m\u001b[0m\u001b[0m\n\u001b[0m",
      "\u001b[0;31mNameError\u001b[0m: name 'B' is not defined"
     ]
    }
   ],
   "source": [
    "#dp.to_csv('CSV/Depth1TP.csv')\n"
   ]
  },
  {
   "cell_type": "code",
   "execution_count": null,
   "id": "ad6e9801-62ad-4b6b-b4f8-97b49f1146bc",
   "metadata": {},
   "outputs": [],
   "source": [
    "#dp.loc[dp['Y']==[X1]]\n",
    "#print(dp.loc[dp['Y'] == 'X2'])\n",
    "#dp.loc\n",
    "\n",
    "#dic={}\n",
    "#l=0\n",
    "tem=dp['Y'].tolist()\n",
    "for k in tem:\n",
    "    valores=list(dp.loc[dp.Y==k])\n",
    "#    dic[k]=valores\n",
    "#dp['Y'].tolist()\n"
   ]
  },
  {
   "cell_type": "code",
   "execution_count": null,
   "id": "ec098c99-fe65-4fcf-be49-ff10068142f8",
   "metadata": {},
   "outputs": [],
   "source": [
    "\n",
    "    for y in A:\n",
    "    k=1\n",
    "    list(dp.loc[dp.Y==y].iloc[:,k])"
   ]
  },
  {
   "cell_type": "code",
   "execution_count": 55,
   "id": "04d800eb-321b-4611-a32f-73f653411dae",
   "metadata": {},
   "outputs": [
    {
     "data": {
      "text/plain": [
       "[['X1'],\n",
       " ['X2'],\n",
       " ['X1', 'X2'],\n",
       " ['X3'],\n",
       " ['X1', 'X3'],\n",
       " ['X2', 'X3'],\n",
       " ['X1', 'X2', 'X3']]"
      ]
     },
     "execution_count": 55,
     "metadata": {},
     "output_type": "execute_result"
    }
   ],
   "source": [
    "A\n",
    "#dp.reindex(A)"
   ]
  },
  {
   "cell_type": "code",
   "execution_count": 89,
   "id": "a43b58f0-1338-4bc2-bf01-324a6a304ce7",
   "metadata": {},
   "outputs": [],
   "source": [
    "organisms=list(dic_Organisms.values())"
   ]
  },
  {
   "cell_type": "code",
   "execution_count": 102,
   "id": "64e40eb1-e599-4989-8338-5742574e9d75",
   "metadata": {},
   "outputs": [
    {
     "data": {
      "text/plain": [
       "False"
      ]
     },
     "execution_count": 102,
     "metadata": {},
     "output_type": "execute_result"
    }
   ],
   "source": [
    "set(organisms[0]).issubset(set(A[2]))\n"
   ]
  },
  {
   "cell_type": "code",
   "execution_count": 103,
   "id": "e61ce4f7-d87f-4fff-97d2-a8f55ad83650",
   "metadata": {},
   "outputs": [
    {
     "data": {
      "text/plain": [
       "'X1'"
      ]
     },
     "execution_count": 103,
     "metadata": {},
     "output_type": "execute_result"
    }
   ],
   "source": [
    "organisms[0]\n"
   ]
  },
  {
   "cell_type": "code",
   "execution_count": 105,
   "id": "80dcb485-3941-41ca-b072-a6f5cd9e3aca",
   "metadata": {},
   "outputs": [
    {
     "data": {
      "text/plain": [
       "{'X1', 'X2'}"
      ]
     },
     "execution_count": 105,
     "metadata": {},
     "output_type": "execute_result"
    }
   ],
   "source": [
    "set(A[2])"
   ]
  },
  {
   "cell_type": "code",
   "execution_count": 114,
   "id": "efc616f6-47bc-4c17-b5a2-5f554c94344e",
   "metadata": {},
   "outputs": [
    {
     "ename": "AttributeError",
     "evalue": "'str' object has no attribute 'issubset'",
     "output_type": "error",
     "traceback": [
      "\u001b[0;31m---------------------------------------------------------------------------\u001b[0m",
      "\u001b[0;31mAttributeError\u001b[0m                            Traceback (most recent call last)",
      "\u001b[0;32m<ipython-input-114-9f3f35635426>\u001b[0m in \u001b[0;36m<module>\u001b[0;34m\u001b[0m\n\u001b[1;32m      2\u001b[0m \u001b[0;31m#xx=set(xx)\u001b[0m\u001b[0;34m\u001b[0m\u001b[0;34m\u001b[0m\u001b[0;34m\u001b[0m\u001b[0m\n\u001b[1;32m      3\u001b[0m \u001b[0mxxx\u001b[0m\u001b[0;34m=\u001b[0m\u001b[0mset\u001b[0m\u001b[0;34m(\u001b[0m\u001b[0mA\u001b[0m\u001b[0;34m[\u001b[0m\u001b[0;36m2\u001b[0m\u001b[0;34m]\u001b[0m\u001b[0;34m)\u001b[0m\u001b[0;34m\u001b[0m\u001b[0;34m\u001b[0m\u001b[0m\n\u001b[0;32m----> 4\u001b[0;31m \u001b[0mxx\u001b[0m\u001b[0;34m.\u001b[0m\u001b[0missubset\u001b[0m\u001b[0;34m(\u001b[0m\u001b[0mxxx\u001b[0m\u001b[0;34m)\u001b[0m\u001b[0;34m\u001b[0m\u001b[0;34m\u001b[0m\u001b[0m\n\u001b[0m",
      "\u001b[0;31mAttributeError\u001b[0m: 'str' object has no attribute 'issubset'"
     ]
    }
   ],
   "source": [
    "xx=organisms[0]\n",
    "#xx=set(xx)\n",
    "xxx=set(A[2])\n",
    "xx.issubset(xxx)"
   ]
  },
  {
   "cell_type": "code",
   "execution_count": null,
   "id": "5fa3635a-60df-4ab2-9e14-d3fdb534e993",
   "metadata": {},
   "outputs": [],
   "source": []
  }
 ],
 "metadata": {
  "kernelspec": {
   "display_name": "Python 3",
   "language": "python",
   "name": "python3"
  },
  "language_info": {
   "codemirror_mode": {
    "name": "ipython",
    "version": 3
   },
   "file_extension": ".py",
   "mimetype": "text/x-python",
   "name": "python",
   "nbconvert_exporter": "python",
   "pygments_lexer": "ipython3",
   "version": "3.8.8"
  }
 },
 "nbformat": 4,
 "nbformat_minor": 5
}
