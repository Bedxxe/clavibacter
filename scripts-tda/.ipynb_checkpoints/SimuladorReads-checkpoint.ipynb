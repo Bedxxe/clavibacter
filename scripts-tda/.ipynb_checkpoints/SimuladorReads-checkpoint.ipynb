{
 "cells": [
  {
   "cell_type": "markdown",
   "id": "04ad2999",
   "metadata": {},
   "source": [
    "# Simulador de reads para metagenomas\n"
   ]
  },
  {
   "cell_type": "markdown",
   "id": "f8ed116a",
   "metadata": {},
   "source": [
    "## Cargar librerias"
   ]
  },
  {
   "cell_type": "code",
   "execution_count": 1,
   "id": "c7dd4536",
   "metadata": {},
   "outputs": [],
   "source": [
    "import os\n",
    "import math\n",
    "import random\n",
    "import numpy as np\n",
    "\n",
    "from pathlib import Path\n",
    "from random import seed\n",
    "from random import randint"
   ]
  },
  {
   "cell_type": "markdown",
   "id": "d03b8e4b",
   "metadata": {},
   "source": [
    "En esta sección utilizaremos las funciones definidas por Camila en su proyecto de maestria, con la que podemos realizar de forma simulada reads, de metagenomas.\n",
    "## Funciones inicales\n",
    "\n",
    "### Funcion lectura\n",
    "Ingresamos un archivo multifasta y arroja una lista con cada secuencia (contig)"
   ]
  },
  {
   "cell_type": "code",
   "execution_count": 2,
   "id": "710850f8",
   "metadata": {},
   "outputs": [],
   "source": [
    "\n",
    "dic = {}\n",
    "def lectura_genoma(File):\n",
    "    lista = []\n",
    "    with open(File,'r') as f:\n",
    "        lines=f.read() # lectura decada linea del archivo\n",
    "        lines=lines.split('>') # identificador de '>'\n",
    "        lines=['>'+ x for x in lines[1:]] # lista con cada elemento que comienza con '>'\n",
    "        for x in lines:\n",
    "            #file_name=x.split('\\n')[0][1:] # quita los saltos de linea reemplazandolos con '\\n'\n",
    "            #fil=open(file_name+'.fa','w')\n",
    "            #fil.write(x)\n",
    "            #fil.close()\n",
    "            x2 = x.replace(\"\\n\",\",\",1) # el primer '\\n' se reemplazapor una coma\n",
    "            x3 = x2.replace(\"\\n\",\"\") # los siguientes se quitan\n",
    "            lista.append(x3) # lista con un contig en cada elemento y su identificador\n",
    "        # convertir la lista en un diccionario\n",
    "        \n",
    "        \n",
    "        #LONGITUDES\n",
    "        \n",
    "        for x in lista:\n",
    "            x = x.split(',')\n",
    "            dic[x[0]] = x[1] \n",
    "        \n",
    "        return(dic)    "
   ]
  },
  {
   "cell_type": "markdown",
   "id": "0c52fc0a",
   "metadata": {},
   "source": [
    "### Funcion de corte de reads\n",
    "Está función nos permite cortar los reads, solo requerimos una pocision de inicio y una longitud de corte.\n"
   ]
  },
  {
   "cell_type": "code",
   "execution_count": 3,
   "id": "38f05142",
   "metadata": {},
   "outputs": [],
   "source": [
    "def cutout(read,i,n_length): \n",
    "    cropped_read = read[i:i+n_length]\n",
    "    return(cropped_read) "
   ]
  },
  {
   "cell_type": "markdown",
   "id": "0f205abf",
   "metadata": {},
   "source": [
    "### Funcion cortes aleatorios\n",
    " Esta función nos permite cortar los reads aleatoriamente. Al ingresar un conjunto de genomas, este nos arroja un metagenoma con varios reads tomados de los genomas iniciales para esto se le entrega el numero de reads deseados por cada genoma y la longitud."
   ]
  },
  {
   "cell_type": "code",
   "execution_count": 4,
   "id": "d562b13f",
   "metadata": {},
   "outputs": [],
   "source": [
    "def reads(diccionario,longitud,num_reads):  # num_reads\n",
    "    dic = {}\n",
    "    contig = 0\n",
    "    k = 0\n",
    "    \n",
    "    # LONGITUD Y NUM_READS DEPENDERA DE LAS LONGITUDES DE LOS CONTIG\n",
    "    # LA LONGITUD \n",
    "    \n",
    "    #LAS LONGITUDES DEPENDEN DE LA CALIDAD\n",
    "    \n",
    "    \n",
    "    while k < num_reads:\n",
    "        for key in diccionario:#range(len(diccionario.keys())):\n",
    "            newkey = key + '_' + str(k) \n",
    "            contig = random.choice(list(diccionario.values())) # escoje un contig al azar \n",
    "            i = randint(1,(len(contig)-longitud)) # toma una pocision de inicio al azar\n",
    "            dic[newkey] = cutout(contig,i,longitud) # para el contig dado anteriormente, se corta desde la pocision i de lonjitud ln\n",
    "            # se debe calcular cuantas veces va a escoger cada contig,dependiendo del tamaño del contig inicial\n",
    "            #print(dic)\n",
    "        \n",
    "        k += 1\n",
    "    #####crea un archivo fastq con la mejor calidad\n",
    "    file = open(\"prueba.fastq\",'wt')\n",
    "    for key in dic: \n",
    "        file.write(str(key))\n",
    "        file.write(str('\\n'))\n",
    "        file.write(str(dic[key]))\n",
    "        file.write(str('\\n'))\n",
    "        file.write(str('+'))\n",
    "        file.write(str('\\n'))\n",
    "        file.write(str('A'*longitud)) #calidad\n",
    "        file.write(str('\\n'))     \n",
    "    file.close()\n",
    "    print(dic)"
   ]
  },
  {
   "cell_type": "markdown",
   "id": "80834b83-136b-4203-9b14-754414f7039d",
   "metadata": {},
   "source": [
    "Leer genomas y corre las funciones `lecturas_genomas` y `reads`\n"
   ]
  },
  {
   "cell_type": "code",
   "execution_count": null,
   "id": "aa8785cb-683d-4d27-a33f-e8e4b5737b7b",
   "metadata": {},
   "outputs": [],
   "source": [
    "ruta = '/home/csilva/GIT/Tesis_Maestria/Data/new-c-genomes'\n",
    "contenido = os.listdir(ruta)\n",
    "genomas = []\n",
    "for i in contenido:\n",
    "    if os.path.isfile(os.path.join(ruta,i)) and i.endswith('.fna'):\n",
    "        genomas.append(i)\n",
    "n = len(genomas) # número de genomas (número de archivos)\n",
    "diccionario_reads_metagenoma = {}\n",
    "\n",
    "\n",
    "\n",
    "for i in range(n): \n",
    "    lectura_genoma(ruta + '/' + genomas[i]) \n",
    "    reads(dic,150,3)\n",
    "    \n",
    "    "
   ]
  }
 ],
 "metadata": {
  "kernelspec": {
   "display_name": "Python 3 (ipykernel)",
   "language": "python",
   "name": "python3"
  },
  "language_info": {
   "codemirror_mode": {
    "name": "ipython",
    "version": 3
   },
   "file_extension": ".py",
   "mimetype": "text/x-python",
   "name": "python",
   "nbconvert_exporter": "python",
   "pygments_lexer": "ipython3",
   "version": "3.8.12"
  }
 },
 "nbformat": 4,
 "nbformat_minor": 5
}
